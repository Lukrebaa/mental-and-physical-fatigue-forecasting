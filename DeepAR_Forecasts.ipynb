{
  "cells": [
    {
      "cell_type": "markdown",
      "metadata": {
        "id": "-OlT7dBeFRWa"
      },
      "source": [
        "#DeepAR Fatigue Forecasts"
      ]
    },
    {
      "cell_type": "markdown",
      "metadata": {
        "id": "sQlIXEmrHZR3"
      },
      "source": [
        "DeepAR important hyperparameters: num_layers, hidden_size, context_length, prediction_length, learning rate, weight_decay, dropout rate"
      ]
    },
    {
      "cell_type": "code",
      "source": [
        "import platform\n",
        "import pkg_resources\n",
        "\n",
        "# Check the Python version\n",
        "print(f\"Python version: {platform.python_version()}\")\n",
        "\n",
        "# Check the installed packages\n",
        "installed_packages = pkg_resources.working_set\n",
        "installed_packages_list = sorted([\"%s==%s\" % (i.key, i.version)\n",
        "   for i in installed_packages])\n",
        "print(\"\\n\".join(installed_packages_list))"
      ],
      "metadata": {
        "id": "w1JjtUfJjq9Q"
      },
      "execution_count": null,
      "outputs": []
    },
    {
      "cell_type": "markdown",
      "metadata": {
        "id": "OCMNCzKoFV24"
      },
      "source": [
        "##Install packages and libraries"
      ]
    },
    {
      "cell_type": "code",
      "source": [
        "!pip install numpy==1.21.2\n"
      ],
      "metadata": {
        "colab": {
          "base_uri": "https://localhost:8080/",
          "height": 307
        },
        "id": "lw32rbw_E6T4",
        "outputId": "5a10aa88-0b6e-45bd-dfd1-e60224d77fd9"
      },
      "execution_count": null,
      "outputs": [
        {
          "output_type": "stream",
          "name": "stdout",
          "text": [
            "Collecting numpy==1.21.2\n",
            "  Downloading numpy-1.21.2-cp310-cp310-manylinux_2_17_x86_64.manylinux2014_x86_64.whl (15.9 MB)\n",
            "\u001b[2K     \u001b[90m━━━━━━━━━━━━━━━━━━━━━━━━━━━━━━━━━━━━━━━━\u001b[0m \u001b[32m15.9/15.9 MB\u001b[0m \u001b[31m42.2 MB/s\u001b[0m eta \u001b[36m0:00:00\u001b[0m\n",
            "\u001b[?25hInstalling collected packages: numpy\n",
            "  Attempting uninstall: numpy\n",
            "    Found existing installation: numpy 1.22.4\n",
            "    Uninstalling numpy-1.22.4:\n",
            "      Successfully uninstalled numpy-1.22.4\n",
            "\u001b[31mERROR: pip's dependency resolver does not currently take into account all the packages that are installed. This behaviour is the source of the following dependency conflicts.\n",
            "tensorflow 2.12.0 requires numpy<1.24,>=1.22, but you have numpy 1.21.2 which is incompatible.\u001b[0m\u001b[31m\n",
            "\u001b[0mSuccessfully installed numpy-1.21.2\n"
          ]
        },
        {
          "output_type": "display_data",
          "data": {
            "application/vnd.colab-display-data+json": {
              "pip_warning": {
                "packages": [
                  "numpy"
                ]
              }
            }
          },
          "metadata": {}
        }
      ]
    },
    {
      "cell_type": "code",
      "execution_count": null,
      "metadata": {
        "id": "29ped9kvFfgB"
      },
      "outputs": [],
      "source": [
        "%%capture\n",
        "%pip install tensorflow matplotlib opencv-python pandas keras gluonts scipy scikit-learn"
      ]
    },
    {
      "cell_type": "code",
      "execution_count": null,
      "metadata": {
        "colab": {
          "base_uri": "https://localhost:8080/"
        },
        "id": "tGmtOm2Qj8Wy",
        "outputId": "ef1aff30-7401-4e9e-f024-c7b09b18f4f5"
      },
      "outputs": [
        {
          "output_type": "stream",
          "name": "stdout",
          "text": [
            "Collecting mxnet-cu117\n",
            "  Downloading mxnet_cu117-1.9.1-py3-none-manylinux2014_x86_64.whl (509.2 MB)\n",
            "\u001b[2K     \u001b[90m━━━━━━━━━━━━━━━━━━━━━━━━━━━━━━━━━━━━━━━\u001b[0m \u001b[32m509.2/509.2 MB\u001b[0m \u001b[31m2.3 MB/s\u001b[0m eta \u001b[36m0:00:00\u001b[0m\n",
            "\u001b[?25hRequirement already satisfied: numpy<2.0.0,>1.16.0 in /usr/local/lib/python3.10/dist-packages (from mxnet-cu117) (1.23.5)\n",
            "Requirement already satisfied: requests<3,>=2.20.0 in /usr/local/lib/python3.10/dist-packages (from mxnet-cu117) (2.27.1)\n",
            "Collecting graphviz<0.9.0,>=0.8.1 (from mxnet-cu117)\n",
            "  Downloading graphviz-0.8.4-py2.py3-none-any.whl (16 kB)\n",
            "Requirement already satisfied: urllib3<1.27,>=1.21.1 in /usr/local/lib/python3.10/dist-packages (from requests<3,>=2.20.0->mxnet-cu117) (1.26.16)\n",
            "Requirement already satisfied: certifi>=2017.4.17 in /usr/local/lib/python3.10/dist-packages (from requests<3,>=2.20.0->mxnet-cu117) (2023.7.22)\n",
            "Requirement already satisfied: charset-normalizer~=2.0.0 in /usr/local/lib/python3.10/dist-packages (from requests<3,>=2.20.0->mxnet-cu117) (2.0.12)\n",
            "Requirement already satisfied: idna<4,>=2.5 in /usr/local/lib/python3.10/dist-packages (from requests<3,>=2.20.0->mxnet-cu117) (3.4)\n",
            "Installing collected packages: graphviz, mxnet-cu117\n",
            "  Attempting uninstall: graphviz\n",
            "    Found existing installation: graphviz 0.20.1\n",
            "    Uninstalling graphviz-0.20.1:\n",
            "      Successfully uninstalled graphviz-0.20.1\n",
            "Successfully installed graphviz-0.8.4 mxnet-cu117-1.9.1\n"
          ]
        }
      ],
      "source": [
        "!pip install mxnet-cu117"
      ]
    },
    {
      "cell_type": "code",
      "execution_count": null,
      "metadata": {
        "colab": {
          "base_uri": "https://localhost:8080/"
        },
        "id": "xqUwwgDhkUAq",
        "outputId": "a6b5a41a-71ac-44c3-eb3f-93c89b2fcf17"
      },
      "outputs": [
        {
          "output_type": "stream",
          "name": "stdout",
          "text": [
            "Mounted at /content/drive/\n"
          ]
        }
      ],
      "source": [
        "from google.colab import drive # connecting to google drive\n",
        "drive.mount('/content/drive/')"
      ]
    },
    {
      "cell_type": "markdown",
      "metadata": {
        "id": "PMr3RR1mFbpg"
      },
      "source": [
        "##Import libraries and packages"
      ]
    },
    {
      "cell_type": "code",
      "execution_count": null,
      "metadata": {
        "id": "i9u2nN3FFmTw"
      },
      "outputs": [],
      "source": [
        "import pandas as pd\n",
        "import matplotlib.pyplot as pl\n",
        "import gluonts\n",
        "import numpy as np\n",
        "import glob\n",
        "import os"
      ]
    },
    {
      "cell_type": "code",
      "execution_count": null,
      "metadata": {
        "colab": {
          "base_uri": "https://localhost:8080/"
        },
        "id": "G0NSNvrsVIRZ",
        "outputId": "0bdf2368-dde5-4880-e338-6b36f8865d24"
      },
      "outputs": [
        {
          "output_type": "stream",
          "name": "stderr",
          "text": [
            "/usr/local/lib/python3.10/dist-packages/gluonts/json.py:101: UserWarning: Using `json`-module for json-handling. Consider installing one of `orjson`, `ujson` to speed up serialization and deserialization.\n",
            "  warnings.warn(\n"
          ]
        }
      ],
      "source": [
        "import mxnet as mx\n",
        "from mxnet import gluon\n",
        "from sklearn.model_selection import train_test_split\n",
        "from gluonts.dataset.common import ListDataset\n",
        "from gluonts.dataset.util import to_pandas\n",
        "from gluonts.mx import DeepAREstimator\n",
        "from gluonts.mx.trainer import Trainer\n",
        "from gluonts.evaluation import Evaluator\n",
        "from gluonts.transform import SimpleTransformation\n",
        "from gluonts.evaluation.backtest import make_evaluation_predictions\n",
        "from gluonts.dataset.field_names import FieldName"
      ]
    },
    {
      "cell_type": "markdown",
      "metadata": {
        "id": "7-JH1wxsFygI"
      },
      "source": [
        "## Prepare the dataset for DeepAR"
      ]
    },
    {
      "cell_type": "code",
      "execution_count": null,
      "metadata": {
        "id": "PoQMGq74F2ZB"
      },
      "outputs": [],
      "source": [
        "# Read the merged dataset\n",
        "data = pd.read_csv('/content/drive/MyDrive/Laboratory/project/HS/Dataset/fatigueset/a_pp/merged_fatigue.csv', index_col='timestamp', parse_dates=True, decimal = '.')"
      ]
    },
    {
      "cell_type": "code",
      "execution_count": null,
      "metadata": {
        "colab": {
          "base_uri": "https://localhost:8080/",
          "height": 455
        },
        "id": "pZzSzDj_GJJo",
        "outputId": "ef316dda-ed9d-4aee-b7d1-d1f412735e06"
      },
      "outputs": [
        {
          "output_type": "execute_result",
          "data": {
            "text/plain": [
              "                  hr        bvp       eda    hrv       temp  TP9_alpha  \\\n",
              "timestamp                                                                \n",
              "0.0        84.410000 -31.478538  0.073036   55.0  32.970000   0.467850   \n",
              "1.0        84.814251  -2.964915  0.062617   55.0  33.046063   0.467850   \n",
              "2.0        85.114938  -2.301527  0.065359   55.0  33.005485   0.467850   \n",
              "3.0        85.311535   4.305364  0.072797   55.0  32.941391   0.467850   \n",
              "4.0        85.409218  16.444607  0.075497   55.0  32.930880   0.467850   \n",
              "...              ...        ...       ...    ...        ...        ...   \n",
              "162615.0   81.244043 -38.007752  0.125563  189.0  32.450000   1.105646   \n",
              "162616.0   81.967168 -41.370981  0.127134  189.0  32.452243   1.105646   \n",
              "162617.0   82.667940   1.469212  0.128938  188.0  32.463182   1.105646   \n",
              "162618.0   83.322191  15.588643  0.129387  187.0  32.475624   1.105646   \n",
              "162619.0   83.908609  20.051842  0.127902  187.0  32.478320   1.105646   \n",
              "\n",
              "           AF7_alpha  AF8_alpha  TP10_alpha  TP9_beta  ...  TP9_gamma  \\\n",
              "timestamp                                              ...              \n",
              "0.0         0.456368   0.582040    0.242963  0.563700  ...   0.296789   \n",
              "1.0         0.007988   0.582040    0.427981  0.574691  ...   0.256293   \n",
              "2.0         0.066742   0.582040    0.427981  0.569917  ...   0.230136   \n",
              "3.0         0.129972   0.582040    0.427981  0.557134  ...   0.216118   \n",
              "4.0         0.171005   0.580862    0.427981  0.557134  ...   0.216118   \n",
              "...              ...        ...         ...       ...  ...        ...   \n",
              "162615.0    0.253451  -0.107242    0.573773  0.895681  ...   0.547978   \n",
              "162616.0    0.253451  -0.028669    0.516879  0.895681  ...   0.547978   \n",
              "162617.0    0.095861   0.099077    0.516879  0.895681  ...   0.547978   \n",
              "162618.0    0.169016   0.332599    0.516879  0.895681  ...   0.547978   \n",
              "162619.0    0.280270   0.588453    0.535575  0.895681  ...   0.547978   \n",
              "\n",
              "           AF7_gamma  AF8_gamma  TP10_gamma  TP9_theta  AF7_theta  AF8_theta  \\\n",
              "timestamp                                                                      \n",
              "0.0         0.214393   0.271548    0.217269  -0.027492   0.172120   0.568886   \n",
              "1.0         0.199517   0.267059    0.264890   0.080415  -0.032409   0.557420   \n",
              "2.0         0.186814   0.262576    0.264890   0.184614  -0.000838   0.524846   \n",
              "3.0         0.167525   0.256366    0.264890   0.259699   0.004513   0.459960   \n",
              "4.0         0.148598   0.245496    0.264890   0.259699   0.000629   0.356142   \n",
              "...              ...        ...         ...        ...        ...        ...   \n",
              "162615.0   -0.217799  -0.033422    0.169835   0.889673   0.591516  -0.206034   \n",
              "162616.0   -0.217799  -0.045669    0.197213   0.889673   0.591516  -0.213746   \n",
              "162617.0   -0.159329  -0.030365    0.236925   0.889673   0.022806  -0.151582   \n",
              "162618.0   -0.080130   0.003532    0.289260   0.889673   0.215413   0.026101   \n",
              "162619.0    0.022605   0.037585    0.346738   0.889673   0.472033   0.280160   \n",
              "\n",
              "           TP10_theta         PF         MF  \n",
              "timestamp                                    \n",
              "0.0         -0.019001  14.444444  14.166667  \n",
              "1.0          0.466136  14.449057  14.158360  \n",
              "2.0          0.466136  14.453668  14.150057  \n",
              "3.0          0.466136  14.458278  14.141758  \n",
              "4.0          0.466136  14.462886  14.133463  \n",
              "...               ...        ...        ...  \n",
              "162615.0     0.419402  -0.409824  12.492409  \n",
              "162616.0     0.394710  -0.417819  12.486856  \n",
              "162617.0     0.378570  -0.425815  12.481301  \n",
              "162618.0     0.397221  -0.433813  12.475746  \n",
              "162619.0     0.473307  -0.441812  12.470190  \n",
              "\n",
              "[160936 rows x 27 columns]"
            ],
            "text/html": [
              "\n",
              "\n",
              "  <div id=\"df-6a1bb135-22e5-48d9-89b0-224ecead080d\">\n",
              "    <div class=\"colab-df-container\">\n",
              "      <div>\n",
              "<style scoped>\n",
              "    .dataframe tbody tr th:only-of-type {\n",
              "        vertical-align: middle;\n",
              "    }\n",
              "\n",
              "    .dataframe tbody tr th {\n",
              "        vertical-align: top;\n",
              "    }\n",
              "\n",
              "    .dataframe thead th {\n",
              "        text-align: right;\n",
              "    }\n",
              "</style>\n",
              "<table border=\"1\" class=\"dataframe\">\n",
              "  <thead>\n",
              "    <tr style=\"text-align: right;\">\n",
              "      <th></th>\n",
              "      <th>hr</th>\n",
              "      <th>bvp</th>\n",
              "      <th>eda</th>\n",
              "      <th>hrv</th>\n",
              "      <th>temp</th>\n",
              "      <th>TP9_alpha</th>\n",
              "      <th>AF7_alpha</th>\n",
              "      <th>AF8_alpha</th>\n",
              "      <th>TP10_alpha</th>\n",
              "      <th>TP9_beta</th>\n",
              "      <th>...</th>\n",
              "      <th>TP9_gamma</th>\n",
              "      <th>AF7_gamma</th>\n",
              "      <th>AF8_gamma</th>\n",
              "      <th>TP10_gamma</th>\n",
              "      <th>TP9_theta</th>\n",
              "      <th>AF7_theta</th>\n",
              "      <th>AF8_theta</th>\n",
              "      <th>TP10_theta</th>\n",
              "      <th>PF</th>\n",
              "      <th>MF</th>\n",
              "    </tr>\n",
              "    <tr>\n",
              "      <th>timestamp</th>\n",
              "      <th></th>\n",
              "      <th></th>\n",
              "      <th></th>\n",
              "      <th></th>\n",
              "      <th></th>\n",
              "      <th></th>\n",
              "      <th></th>\n",
              "      <th></th>\n",
              "      <th></th>\n",
              "      <th></th>\n",
              "      <th></th>\n",
              "      <th></th>\n",
              "      <th></th>\n",
              "      <th></th>\n",
              "      <th></th>\n",
              "      <th></th>\n",
              "      <th></th>\n",
              "      <th></th>\n",
              "      <th></th>\n",
              "      <th></th>\n",
              "      <th></th>\n",
              "    </tr>\n",
              "  </thead>\n",
              "  <tbody>\n",
              "    <tr>\n",
              "      <th>0.0</th>\n",
              "      <td>84.410000</td>\n",
              "      <td>-31.478538</td>\n",
              "      <td>0.073036</td>\n",
              "      <td>55.0</td>\n",
              "      <td>32.970000</td>\n",
              "      <td>0.467850</td>\n",
              "      <td>0.456368</td>\n",
              "      <td>0.582040</td>\n",
              "      <td>0.242963</td>\n",
              "      <td>0.563700</td>\n",
              "      <td>...</td>\n",
              "      <td>0.296789</td>\n",
              "      <td>0.214393</td>\n",
              "      <td>0.271548</td>\n",
              "      <td>0.217269</td>\n",
              "      <td>-0.027492</td>\n",
              "      <td>0.172120</td>\n",
              "      <td>0.568886</td>\n",
              "      <td>-0.019001</td>\n",
              "      <td>14.444444</td>\n",
              "      <td>14.166667</td>\n",
              "    </tr>\n",
              "    <tr>\n",
              "      <th>1.0</th>\n",
              "      <td>84.814251</td>\n",
              "      <td>-2.964915</td>\n",
              "      <td>0.062617</td>\n",
              "      <td>55.0</td>\n",
              "      <td>33.046063</td>\n",
              "      <td>0.467850</td>\n",
              "      <td>0.007988</td>\n",
              "      <td>0.582040</td>\n",
              "      <td>0.427981</td>\n",
              "      <td>0.574691</td>\n",
              "      <td>...</td>\n",
              "      <td>0.256293</td>\n",
              "      <td>0.199517</td>\n",
              "      <td>0.267059</td>\n",
              "      <td>0.264890</td>\n",
              "      <td>0.080415</td>\n",
              "      <td>-0.032409</td>\n",
              "      <td>0.557420</td>\n",
              "      <td>0.466136</td>\n",
              "      <td>14.449057</td>\n",
              "      <td>14.158360</td>\n",
              "    </tr>\n",
              "    <tr>\n",
              "      <th>2.0</th>\n",
              "      <td>85.114938</td>\n",
              "      <td>-2.301527</td>\n",
              "      <td>0.065359</td>\n",
              "      <td>55.0</td>\n",
              "      <td>33.005485</td>\n",
              "      <td>0.467850</td>\n",
              "      <td>0.066742</td>\n",
              "      <td>0.582040</td>\n",
              "      <td>0.427981</td>\n",
              "      <td>0.569917</td>\n",
              "      <td>...</td>\n",
              "      <td>0.230136</td>\n",
              "      <td>0.186814</td>\n",
              "      <td>0.262576</td>\n",
              "      <td>0.264890</td>\n",
              "      <td>0.184614</td>\n",
              "      <td>-0.000838</td>\n",
              "      <td>0.524846</td>\n",
              "      <td>0.466136</td>\n",
              "      <td>14.453668</td>\n",
              "      <td>14.150057</td>\n",
              "    </tr>\n",
              "    <tr>\n",
              "      <th>3.0</th>\n",
              "      <td>85.311535</td>\n",
              "      <td>4.305364</td>\n",
              "      <td>0.072797</td>\n",
              "      <td>55.0</td>\n",
              "      <td>32.941391</td>\n",
              "      <td>0.467850</td>\n",
              "      <td>0.129972</td>\n",
              "      <td>0.582040</td>\n",
              "      <td>0.427981</td>\n",
              "      <td>0.557134</td>\n",
              "      <td>...</td>\n",
              "      <td>0.216118</td>\n",
              "      <td>0.167525</td>\n",
              "      <td>0.256366</td>\n",
              "      <td>0.264890</td>\n",
              "      <td>0.259699</td>\n",
              "      <td>0.004513</td>\n",
              "      <td>0.459960</td>\n",
              "      <td>0.466136</td>\n",
              "      <td>14.458278</td>\n",
              "      <td>14.141758</td>\n",
              "    </tr>\n",
              "    <tr>\n",
              "      <th>4.0</th>\n",
              "      <td>85.409218</td>\n",
              "      <td>16.444607</td>\n",
              "      <td>0.075497</td>\n",
              "      <td>55.0</td>\n",
              "      <td>32.930880</td>\n",
              "      <td>0.467850</td>\n",
              "      <td>0.171005</td>\n",
              "      <td>0.580862</td>\n",
              "      <td>0.427981</td>\n",
              "      <td>0.557134</td>\n",
              "      <td>...</td>\n",
              "      <td>0.216118</td>\n",
              "      <td>0.148598</td>\n",
              "      <td>0.245496</td>\n",
              "      <td>0.264890</td>\n",
              "      <td>0.259699</td>\n",
              "      <td>0.000629</td>\n",
              "      <td>0.356142</td>\n",
              "      <td>0.466136</td>\n",
              "      <td>14.462886</td>\n",
              "      <td>14.133463</td>\n",
              "    </tr>\n",
              "    <tr>\n",
              "      <th>...</th>\n",
              "      <td>...</td>\n",
              "      <td>...</td>\n",
              "      <td>...</td>\n",
              "      <td>...</td>\n",
              "      <td>...</td>\n",
              "      <td>...</td>\n",
              "      <td>...</td>\n",
              "      <td>...</td>\n",
              "      <td>...</td>\n",
              "      <td>...</td>\n",
              "      <td>...</td>\n",
              "      <td>...</td>\n",
              "      <td>...</td>\n",
              "      <td>...</td>\n",
              "      <td>...</td>\n",
              "      <td>...</td>\n",
              "      <td>...</td>\n",
              "      <td>...</td>\n",
              "      <td>...</td>\n",
              "      <td>...</td>\n",
              "      <td>...</td>\n",
              "    </tr>\n",
              "    <tr>\n",
              "      <th>162615.0</th>\n",
              "      <td>81.244043</td>\n",
              "      <td>-38.007752</td>\n",
              "      <td>0.125563</td>\n",
              "      <td>189.0</td>\n",
              "      <td>32.450000</td>\n",
              "      <td>1.105646</td>\n",
              "      <td>0.253451</td>\n",
              "      <td>-0.107242</td>\n",
              "      <td>0.573773</td>\n",
              "      <td>0.895681</td>\n",
              "      <td>...</td>\n",
              "      <td>0.547978</td>\n",
              "      <td>-0.217799</td>\n",
              "      <td>-0.033422</td>\n",
              "      <td>0.169835</td>\n",
              "      <td>0.889673</td>\n",
              "      <td>0.591516</td>\n",
              "      <td>-0.206034</td>\n",
              "      <td>0.419402</td>\n",
              "      <td>-0.409824</td>\n",
              "      <td>12.492409</td>\n",
              "    </tr>\n",
              "    <tr>\n",
              "      <th>162616.0</th>\n",
              "      <td>81.967168</td>\n",
              "      <td>-41.370981</td>\n",
              "      <td>0.127134</td>\n",
              "      <td>189.0</td>\n",
              "      <td>32.452243</td>\n",
              "      <td>1.105646</td>\n",
              "      <td>0.253451</td>\n",
              "      <td>-0.028669</td>\n",
              "      <td>0.516879</td>\n",
              "      <td>0.895681</td>\n",
              "      <td>...</td>\n",
              "      <td>0.547978</td>\n",
              "      <td>-0.217799</td>\n",
              "      <td>-0.045669</td>\n",
              "      <td>0.197213</td>\n",
              "      <td>0.889673</td>\n",
              "      <td>0.591516</td>\n",
              "      <td>-0.213746</td>\n",
              "      <td>0.394710</td>\n",
              "      <td>-0.417819</td>\n",
              "      <td>12.486856</td>\n",
              "    </tr>\n",
              "    <tr>\n",
              "      <th>162617.0</th>\n",
              "      <td>82.667940</td>\n",
              "      <td>1.469212</td>\n",
              "      <td>0.128938</td>\n",
              "      <td>188.0</td>\n",
              "      <td>32.463182</td>\n",
              "      <td>1.105646</td>\n",
              "      <td>0.095861</td>\n",
              "      <td>0.099077</td>\n",
              "      <td>0.516879</td>\n",
              "      <td>0.895681</td>\n",
              "      <td>...</td>\n",
              "      <td>0.547978</td>\n",
              "      <td>-0.159329</td>\n",
              "      <td>-0.030365</td>\n",
              "      <td>0.236925</td>\n",
              "      <td>0.889673</td>\n",
              "      <td>0.022806</td>\n",
              "      <td>-0.151582</td>\n",
              "      <td>0.378570</td>\n",
              "      <td>-0.425815</td>\n",
              "      <td>12.481301</td>\n",
              "    </tr>\n",
              "    <tr>\n",
              "      <th>162618.0</th>\n",
              "      <td>83.322191</td>\n",
              "      <td>15.588643</td>\n",
              "      <td>0.129387</td>\n",
              "      <td>187.0</td>\n",
              "      <td>32.475624</td>\n",
              "      <td>1.105646</td>\n",
              "      <td>0.169016</td>\n",
              "      <td>0.332599</td>\n",
              "      <td>0.516879</td>\n",
              "      <td>0.895681</td>\n",
              "      <td>...</td>\n",
              "      <td>0.547978</td>\n",
              "      <td>-0.080130</td>\n",
              "      <td>0.003532</td>\n",
              "      <td>0.289260</td>\n",
              "      <td>0.889673</td>\n",
              "      <td>0.215413</td>\n",
              "      <td>0.026101</td>\n",
              "      <td>0.397221</td>\n",
              "      <td>-0.433813</td>\n",
              "      <td>12.475746</td>\n",
              "    </tr>\n",
              "    <tr>\n",
              "      <th>162619.0</th>\n",
              "      <td>83.908609</td>\n",
              "      <td>20.051842</td>\n",
              "      <td>0.127902</td>\n",
              "      <td>187.0</td>\n",
              "      <td>32.478320</td>\n",
              "      <td>1.105646</td>\n",
              "      <td>0.280270</td>\n",
              "      <td>0.588453</td>\n",
              "      <td>0.535575</td>\n",
              "      <td>0.895681</td>\n",
              "      <td>...</td>\n",
              "      <td>0.547978</td>\n",
              "      <td>0.022605</td>\n",
              "      <td>0.037585</td>\n",
              "      <td>0.346738</td>\n",
              "      <td>0.889673</td>\n",
              "      <td>0.472033</td>\n",
              "      <td>0.280160</td>\n",
              "      <td>0.473307</td>\n",
              "      <td>-0.441812</td>\n",
              "      <td>12.470190</td>\n",
              "    </tr>\n",
              "  </tbody>\n",
              "</table>\n",
              "<p>160936 rows × 27 columns</p>\n",
              "</div>\n",
              "      <button class=\"colab-df-convert\" onclick=\"convertToInteractive('df-6a1bb135-22e5-48d9-89b0-224ecead080d')\"\n",
              "              title=\"Convert this dataframe to an interactive table.\"\n",
              "              style=\"display:none;\">\n",
              "\n",
              "  <svg xmlns=\"http://www.w3.org/2000/svg\" height=\"24px\"viewBox=\"0 0 24 24\"\n",
              "       width=\"24px\">\n",
              "    <path d=\"M0 0h24v24H0V0z\" fill=\"none\"/>\n",
              "    <path d=\"M18.56 5.44l.94 2.06.94-2.06 2.06-.94-2.06-.94-.94-2.06-.94 2.06-2.06.94zm-11 1L8.5 8.5l.94-2.06 2.06-.94-2.06-.94L8.5 2.5l-.94 2.06-2.06.94zm10 10l.94 2.06.94-2.06 2.06-.94-2.06-.94-.94-2.06-.94 2.06-2.06.94z\"/><path d=\"M17.41 7.96l-1.37-1.37c-.4-.4-.92-.59-1.43-.59-.52 0-1.04.2-1.43.59L10.3 9.45l-7.72 7.72c-.78.78-.78 2.05 0 2.83L4 21.41c.39.39.9.59 1.41.59.51 0 1.02-.2 1.41-.59l7.78-7.78 2.81-2.81c.8-.78.8-2.07 0-2.86zM5.41 20L4 18.59l7.72-7.72 1.47 1.35L5.41 20z\"/>\n",
              "  </svg>\n",
              "      </button>\n",
              "\n",
              "\n",
              "\n",
              "    <div id=\"df-4c1e32ee-d80a-407c-b475-715e3b357092\">\n",
              "      <button class=\"colab-df-quickchart\" onclick=\"quickchart('df-4c1e32ee-d80a-407c-b475-715e3b357092')\"\n",
              "              title=\"Suggest charts.\"\n",
              "              style=\"display:none;\">\n",
              "\n",
              "<svg xmlns=\"http://www.w3.org/2000/svg\" height=\"24px\"viewBox=\"0 0 24 24\"\n",
              "     width=\"24px\">\n",
              "    <g>\n",
              "        <path d=\"M19 3H5c-1.1 0-2 .9-2 2v14c0 1.1.9 2 2 2h14c1.1 0 2-.9 2-2V5c0-1.1-.9-2-2-2zM9 17H7v-7h2v7zm4 0h-2V7h2v10zm4 0h-2v-4h2v4z\"/>\n",
              "    </g>\n",
              "</svg>\n",
              "      </button>\n",
              "    </div>\n",
              "\n",
              "<style>\n",
              "  .colab-df-quickchart {\n",
              "    background-color: #E8F0FE;\n",
              "    border: none;\n",
              "    border-radius: 50%;\n",
              "    cursor: pointer;\n",
              "    display: none;\n",
              "    fill: #1967D2;\n",
              "    height: 32px;\n",
              "    padding: 0 0 0 0;\n",
              "    width: 32px;\n",
              "  }\n",
              "\n",
              "  .colab-df-quickchart:hover {\n",
              "    background-color: #E2EBFA;\n",
              "    box-shadow: 0px 1px 2px rgba(60, 64, 67, 0.3), 0px 1px 3px 1px rgba(60, 64, 67, 0.15);\n",
              "    fill: #174EA6;\n",
              "  }\n",
              "\n",
              "  [theme=dark] .colab-df-quickchart {\n",
              "    background-color: #3B4455;\n",
              "    fill: #D2E3FC;\n",
              "  }\n",
              "\n",
              "  [theme=dark] .colab-df-quickchart:hover {\n",
              "    background-color: #434B5C;\n",
              "    box-shadow: 0px 1px 3px 1px rgba(0, 0, 0, 0.15);\n",
              "    filter: drop-shadow(0px 1px 2px rgba(0, 0, 0, 0.3));\n",
              "    fill: #FFFFFF;\n",
              "  }\n",
              "</style>\n",
              "\n",
              "    <script>\n",
              "      async function quickchart(key) {\n",
              "        const containerElement = document.querySelector('#' + key);\n",
              "        const charts = await google.colab.kernel.invokeFunction(\n",
              "            'suggestCharts', [key], {});\n",
              "      }\n",
              "    </script>\n",
              "\n",
              "      <script>\n",
              "\n",
              "function displayQuickchartButton(domScope) {\n",
              "  let quickchartButtonEl =\n",
              "    domScope.querySelector('#df-4c1e32ee-d80a-407c-b475-715e3b357092 button.colab-df-quickchart');\n",
              "  quickchartButtonEl.style.display =\n",
              "    google.colab.kernel.accessAllowed ? 'block' : 'none';\n",
              "}\n",
              "\n",
              "        displayQuickchartButton(document);\n",
              "      </script>\n",
              "      <style>\n",
              "    .colab-df-container {\n",
              "      display:flex;\n",
              "      flex-wrap:wrap;\n",
              "      gap: 12px;\n",
              "    }\n",
              "\n",
              "    .colab-df-convert {\n",
              "      background-color: #E8F0FE;\n",
              "      border: none;\n",
              "      border-radius: 50%;\n",
              "      cursor: pointer;\n",
              "      display: none;\n",
              "      fill: #1967D2;\n",
              "      height: 32px;\n",
              "      padding: 0 0 0 0;\n",
              "      width: 32px;\n",
              "    }\n",
              "\n",
              "    .colab-df-convert:hover {\n",
              "      background-color: #E2EBFA;\n",
              "      box-shadow: 0px 1px 2px rgba(60, 64, 67, 0.3), 0px 1px 3px 1px rgba(60, 64, 67, 0.15);\n",
              "      fill: #174EA6;\n",
              "    }\n",
              "\n",
              "    [theme=dark] .colab-df-convert {\n",
              "      background-color: #3B4455;\n",
              "      fill: #D2E3FC;\n",
              "    }\n",
              "\n",
              "    [theme=dark] .colab-df-convert:hover {\n",
              "      background-color: #434B5C;\n",
              "      box-shadow: 0px 1px 3px 1px rgba(0, 0, 0, 0.15);\n",
              "      filter: drop-shadow(0px 1px 2px rgba(0, 0, 0, 0.3));\n",
              "      fill: #FFFFFF;\n",
              "    }\n",
              "  </style>\n",
              "\n",
              "      <script>\n",
              "        const buttonEl =\n",
              "          document.querySelector('#df-6a1bb135-22e5-48d9-89b0-224ecead080d button.colab-df-convert');\n",
              "        buttonEl.style.display =\n",
              "          google.colab.kernel.accessAllowed ? 'block' : 'none';\n",
              "\n",
              "        async function convertToInteractive(key) {\n",
              "          const element = document.querySelector('#df-6a1bb135-22e5-48d9-89b0-224ecead080d');\n",
              "          const dataTable =\n",
              "            await google.colab.kernel.invokeFunction('convertToInteractive',\n",
              "                                                     [key], {});\n",
              "          if (!dataTable) return;\n",
              "\n",
              "          const docLinkHtml = 'Like what you see? Visit the ' +\n",
              "            '<a target=\"_blank\" href=https://colab.research.google.com/notebooks/data_table.ipynb>data table notebook</a>'\n",
              "            + ' to learn more about interactive tables.';\n",
              "          element.innerHTML = '';\n",
              "          dataTable['output_type'] = 'display_data';\n",
              "          await google.colab.output.renderOutput(dataTable, element);\n",
              "          const docLink = document.createElement('div');\n",
              "          docLink.innerHTML = docLinkHtml;\n",
              "          element.appendChild(docLink);\n",
              "        }\n",
              "      </script>\n",
              "    </div>\n",
              "  </div>\n"
            ]
          },
          "metadata": {},
          "execution_count": 10
        }
      ],
      "source": [
        "data"
      ]
    },
    {
      "cell_type": "code",
      "execution_count": null,
      "metadata": {
        "id": "5zt_uIrOGLrY"
      },
      "outputs": [],
      "source": [
        "df_input = data.reset_index(drop=True).T.reset_index()"
      ]
    },
    {
      "cell_type": "code",
      "execution_count": null,
      "metadata": {
        "id": "yFsf40bPHFjA"
      },
      "outputs": [],
      "source": [
        "ts_code = df_input[\"index\"].astype('category').cat.codes.values"
      ]
    },
    {
      "cell_type": "code",
      "execution_count": null,
      "metadata": {
        "colab": {
          "base_uri": "https://localhost:8080/"
        },
        "id": "eyT-0YqwHHav",
        "outputId": "33e3a2f9-610d-4b68-a7fb-294f75019fa2"
      },
      "outputs": [
        {
          "output_type": "execute_result",
          "data": {
            "text/plain": [
              "array([24, 22, 23, 25, 26, 17,  0,  5, 12, 18,  1,  6, 13, 19,  2,  7, 14,\n",
              "       20,  3,  8, 15, 21,  4,  9, 16, 11, 10], dtype=int8)"
            ]
          },
          "metadata": {},
          "execution_count": 9
        }
      ],
      "source": [
        "ts_code"
      ]
    },
    {
      "cell_type": "markdown",
      "metadata": {
        "id": "z2X3FThhIV-o"
      },
      "source": [
        "###Split into train_ds and test_ds"
      ]
    },
    {
      "cell_type": "code",
      "execution_count": null,
      "metadata": {
        "colab": {
          "base_uri": "https://localhost:8080/"
        },
        "id": "OqImNmJkIeax",
        "outputId": "8fee064f-151a-49fb-dfdb-fe560f675d7e"
      },
      "outputs": [
        {
          "output_type": "execute_result",
          "data": {
            "text/plain": [
              "128749.6"
            ]
          },
          "metadata": {},
          "execution_count": 15
        }
      ],
      "source": [
        "160937*0.8"
      ]
    },
    {
      "cell_type": "code",
      "execution_count": null,
      "metadata": {
        "id": "IqgmEfgUIZ4x"
      },
      "outputs": [],
      "source": [
        "# #ratio\n",
        "# train_data = df_input.iloc[:, :128749].values\n",
        "# test_data = df_input.iloc[:, 128749:].values"
      ]
    },
    {
      "cell_type": "code",
      "source": [
        "# Indices\n",
        "train_end_idx = int(0.7 * 160937)  # 70% of the data for training\n",
        "val_end_idx = int(0.85 * 160937)  # 15% of the data for validation\n",
        "\n",
        "# Arrays\n",
        "train_data = df_input.iloc[:, :train_end_idx].values\n",
        "val_data = df_input.iloc[:, train_end_idx:val_end_idx].values\n",
        "test_data = df_input.iloc[:, val_end_idx:].values"
      ],
      "metadata": {
        "id": "6BBzM-Ph-gnE"
      },
      "execution_count": null,
      "outputs": []
    },
    {
      "cell_type": "code",
      "execution_count": null,
      "metadata": {
        "colab": {
          "base_uri": "https://localhost:8080/"
        },
        "id": "Bg8nIzl0Ikjo",
        "outputId": "98b66035-7229-4df2-83de-821532456b39"
      },
      "outputs": [
        {
          "output_type": "execute_result",
          "data": {
            "text/plain": [
              "(27, 128749)"
            ]
          },
          "metadata": {},
          "execution_count": 17
        }
      ],
      "source": [
        "train_data.shape"
      ]
    },
    {
      "cell_type": "code",
      "execution_count": null,
      "metadata": {
        "colab": {
          "base_uri": "https://localhost:8080/"
        },
        "id": "MdferG4_ImZ3",
        "outputId": "71e8c251-83c5-44c1-d4ee-3ff3397cb5b5"
      },
      "outputs": [
        {
          "output_type": "execute_result",
          "data": {
            "text/plain": [
              "(27, 32188)"
            ]
          },
          "metadata": {},
          "execution_count": 18
        }
      ],
      "source": [
        "test_data.shape"
      ]
    },
    {
      "cell_type": "code",
      "execution_count": null,
      "metadata": {
        "colab": {
          "base_uri": "https://localhost:8080/"
        },
        "id": "602gYzKnIpNP",
        "outputId": "af948a4e-06fc-46dd-f3cf-702ad29663fd"
      },
      "outputs": [
        {
          "output_type": "stream",
          "name": "stderr",
          "text": [
            "<ipython-input-28-d6fbd2375af1>:2: FutureWarning: The 'freq' argument in Timestamp is deprecated and will be removed in a future version.\n",
            "  start_train = pd.Timestamp(0.0, freq=freq)   #set the starting point of the training\n",
            "<ipython-input-28-d6fbd2375af1>:3: FutureWarning: The 'freq' argument in Timestamp is deprecated and will be removed in a future version.\n",
            "  start_val = pd.Timestamp(train_end_idx, freq=freq)\n",
            "<ipython-input-28-d6fbd2375af1>:4: FutureWarning: The 'freq' argument in Timestamp is deprecated and will be removed in a future version.\n",
            "  start_test = pd.Timestamp(val_end_idx, freq=freq)  #set the starting point of the testing\n"
          ]
        }
      ],
      "source": [
        "freq = '1S'  #set the frequency of time series data\n",
        "start_train = pd.Timestamp(0.0, freq=freq)   #set the starting point of the training\n",
        "start_val = pd.Timestamp(train_end_idx, freq=freq)\n",
        "start_test = pd.Timestamp(val_end_idx, freq=freq)  #set the starting point of the testing\n",
        "prediction_length = 300  #set the prediction length"
      ]
    },
    {
      "cell_type": "code",
      "execution_count": null,
      "metadata": {
        "id": "YwA1pf5r5tMH"
      },
      "outputs": [],
      "source": [
        "# Create a ListDataset for each target variable\n",
        "train_ds = ListDataset([\n",
        "    {\n",
        "        FieldName.TARGET: target,\n",
        "        FieldName.START: start_train,\n",
        "        FieldName.FEAT_STATIC_CAT: fsc\n",
        "    }\n",
        "    for (target, fsc) in zip([train_data[25, 1:], train_data[26, 1:]], ts_code[0:27].reshape(-1, 1))\n",
        "], freq=freq)"
      ]
    },
    {
      "cell_type": "code",
      "source": [
        "# Create a ListDataset for each target variable\n",
        "val_ds = ListDataset([\n",
        "    {\n",
        "        FieldName.TARGET: target,\n",
        "        FieldName.START: start_val,\n",
        "        FieldName.FEAT_STATIC_CAT: fsc\n",
        "    }\n",
        "    for (target, fsc) in zip([train_data[25, 1:], train_data[26, 1:]], ts_code[0:27].reshape(-1, 1))\n",
        "], freq=freq)"
      ],
      "metadata": {
        "id": "ryNgFQ_D--NT"
      },
      "execution_count": null,
      "outputs": []
    },
    {
      "cell_type": "code",
      "execution_count": null,
      "metadata": {
        "id": "mHJkv1zb6Nbn"
      },
      "outputs": [],
      "source": [
        "# Create a ListDataset for each target variable\n",
        "test_ds = ListDataset([\n",
        "    {\n",
        "        FieldName.TARGET: target,\n",
        "        FieldName.START: start_test,\n",
        "        FieldName.FEAT_STATIC_CAT: fsc\n",
        "    }\n",
        "    for (target, fsc) in zip([test_data[25, 1:], test_data[26, 1:]], ts_code[0:27].reshape(-1, 1))\n",
        "], freq=freq)"
      ]
    },
    {
      "cell_type": "code",
      "execution_count": null,
      "metadata": {
        "id": "f1KPvg1zIyC3"
      },
      "outputs": [],
      "source": [
        "# Create a DeepAR estimator\n",
        "estimator = DeepAREstimator(freq=freq,\n",
        "                                                  context_length=prediction_length,\n",
        "                                                  prediction_length = prediction_length,\n",
        "                                                  use_feat_static_cat=True,\n",
        "                                                  cardinality = [1],\n",
        "                                                  num_layers = 5,\n",
        "                                                  num_cells = 60,\n",
        "                                                  cell_type = 'lstm',\n",
        "                                                  batch_size =32,\n",
        "                                                  trainer=Trainer(epochs=15))"
      ]
    },
    {
      "cell_type": "markdown",
      "metadata": {
        "id": "NRsrgk7iJA4O"
      },
      "source": [
        "##Train the DeepAR model"
      ]
    },
    {
      "cell_type": "code",
      "execution_count": null,
      "metadata": {
        "colab": {
          "base_uri": "https://localhost:8080/"
        },
        "id": "vw02QG8fJFUX",
        "outputId": "3a5a842f-e1c1-4559-d5ce-98494e099c1a"
      },
      "outputs": [
        {
          "output_type": "stream",
          "name": "stderr",
          "text": [
            "100%|██████████| 50/50 [04:54<00:00,  5.90s/it, epoch=1/15, avg_epoch_loss=2.43]\n",
            "100%|██████████| 50/50 [04:08<00:00,  4.96s/it, epoch=2/15, avg_epoch_loss=1.81]\n",
            "100%|██████████| 50/50 [04:03<00:00,  4.88s/it, epoch=3/15, avg_epoch_loss=1.53]\n",
            "100%|██████████| 50/50 [03:57<00:00,  4.75s/it, epoch=4/15, avg_epoch_loss=1.08]\n",
            "100%|██████████| 50/50 [04:05<00:00,  4.91s/it, epoch=5/15, avg_epoch_loss=0.963]\n",
            "100%|██████████| 50/50 [04:09<00:00,  4.99s/it, epoch=6/15, avg_epoch_loss=1.64]\n",
            "100%|██████████| 50/50 [04:06<00:00,  4.94s/it, epoch=7/15, avg_epoch_loss=2.24]\n",
            "100%|██████████| 50/50 [04:07<00:00,  4.94s/it, epoch=8/15, avg_epoch_loss=1.95]\n",
            "100%|██████████| 50/50 [03:58<00:00,  4.76s/it, epoch=9/15, avg_epoch_loss=1.36]\n",
            "100%|██████████| 50/50 [04:09<00:00,  4.99s/it, epoch=10/15, avg_epoch_loss=1.15]\n",
            "100%|██████████| 50/50 [03:59<00:00,  4.78s/it, epoch=11/15, avg_epoch_loss=1.27]\n",
            "100%|██████████| 50/50 [04:04<00:00,  4.89s/it, epoch=12/15, avg_epoch_loss=0.91]\n",
            "100%|██████████| 50/50 [04:00<00:00,  4.81s/it, epoch=13/15, avg_epoch_loss=0.649]\n",
            "100%|██████████| 50/50 [04:13<00:00,  5.06s/it, epoch=14/15, avg_epoch_loss=1.17]\n",
            "100%|██████████| 50/50 [04:05<00:00,  4.91s/it, epoch=15/15, avg_epoch_loss=0.684]\n"
          ]
        }
      ],
      "source": [
        "# Train the DeepAR model\n",
        "predictor = estimator.train(training_data=train_ds, verbose=1)"
      ]
    },
    {
      "cell_type": "code",
      "execution_count": null,
      "metadata": {
        "id": "kQxsR76dL6d6"
      },
      "outputs": [],
      "source": [
        "from pathlib import Path"
      ]
    },
    {
      "cell_type": "code",
      "execution_count": null,
      "metadata": {
        "id": "6GGYun7vyvVb",
        "colab": {
          "base_uri": "https://localhost:8080/"
        },
        "outputId": "1fbb0af9-5304-4e6f-f079-8a6a550a2957"
      },
      "outputs": [
        {
          "output_type": "stream",
          "name": "stderr",
          "text": [
            "WARNING:root:Serializing RepresentableBlockPredictor instances does not save the prediction network structure in a backwards-compatible manner. Be careful not to use this method in production.\n"
          ]
        }
      ],
      "source": [
        "# Define the directory\n",
        "dir_path = '/content/drive/MyDrive/Laboratory/project/HS/Code/Ensemble Model/DeepAR/deepar_model'\n",
        "\n",
        "# Create the directory if it does not exist\n",
        "os.makedirs(dir_path, exist_ok=True)\n",
        "\n",
        "# Save the model\n",
        "predictor.serialize(Path(dir_path))"
      ]
    },
    {
      "cell_type": "markdown",
      "metadata": {
        "id": "BQfVPZxyJJbH"
      },
      "source": [
        "##DeepAR Forecasts"
      ]
    },
    {
      "cell_type": "code",
      "execution_count": null,
      "metadata": {
        "id": "aJjUFzNfJVm3"
      },
      "outputs": [],
      "source": [
        "from gluonts.evaluation.backtest import make_evaluation_predictions\n",
        "from tqdm.autonotebook import tqdm\n",
        "import matplotlib.pyplot as plt"
      ]
    },
    {
      "cell_type": "code",
      "execution_count": null,
      "metadata": {
        "id": "SyhCvRA7JYkO"
      },
      "outputs": [],
      "source": [
        "#Make predictions\n",
        "forecast_it, ts_it = make_evaluation_predictions(\n",
        "    dataset=test_ds,\n",
        "    predictor = predictor,\n",
        "    num_samples=1000,\n",
        ")"
      ]
    },
    {
      "cell_type": "code",
      "execution_count": null,
      "metadata": {
        "id": "C2CArJNRJfEX",
        "colab": {
          "base_uri": "https://localhost:8080/",
          "height": 116,
          "referenced_widgets": [
            "3c2f28a23d5346739448970800774e40",
            "286f3f46b5634eb7a2b41fb543b32493",
            "6223363182e74ecab2a38f552e5c4e9c",
            "ee94fb18a1bd42309be5476b51d6cac6",
            "69a35fd1f4eb48d28cf099eb7f870eb8",
            "9201100cc1544300ac48213b0f480493",
            "12a892a154624385aa682e980e1d472d",
            "32e090eceea04a0580bd7b8ab938a550",
            "e96c894cc0664fc89f7d1165ed970d85",
            "00722e5e10eb41bb9b586d8eff45305f",
            "b32e04cde11d4a37a14bca1ea5a57e7f",
            "f5f172d87b3c4f39bdb725491bcb85c2",
            "8c5d2b0d69c342699956e674abd7ef62",
            "b80ca34265e347b4a46f852793311c4e",
            "35b83b14a0594dfabd0209cde5d66cb8",
            "ec5a09db8b514dde9c70df019b75728c",
            "a1d7cc01119744d08eb54e39a169e487",
            "e8f23810680f4f9a8ec7485c51aada13",
            "739da834303b4cd29ec195145ecd113e",
            "692caed9daf147b5bfaa92843ee4f4c0",
            "a6c5d804b0694f90b3084067b31ebf67",
            "4c6fe796430d444c9ab96494babf32b0"
          ]
        },
        "outputId": "a90476f6-72f4-46af-ef37-240d585656e6"
      },
      "outputs": [
        {
          "output_type": "stream",
          "name": "stdout",
          "text": [
            "Obtaining time series conditioning values ... \n"
          ]
        },
        {
          "output_type": "display_data",
          "data": {
            "text/plain": [
              "  0%|          | 0/27 [00:00<?, ?it/s]"
            ],
            "application/vnd.jupyter.widget-view+json": {
              "version_major": 2,
              "version_minor": 0,
              "model_id": "3c2f28a23d5346739448970800774e40"
            }
          },
          "metadata": {}
        },
        {
          "output_type": "stream",
          "name": "stdout",
          "text": [
            "Obtaining time series predictions ...\n"
          ]
        },
        {
          "output_type": "display_data",
          "data": {
            "text/plain": [
              "  0%|          | 0/27 [00:00<?, ?it/s]"
            ],
            "application/vnd.jupyter.widget-view+json": {
              "version_major": 2,
              "version_minor": 0,
              "model_id": "f5f172d87b3c4f39bdb725491bcb85c2"
            }
          },
          "metadata": {}
        }
      ],
      "source": [
        "print(\"Obtaining time series conditioning values ... \")\n",
        "tss = list(tqdm(ts_it, total = len(test_data)))   #obtaining the list of time series conditioning values\n",
        "print(\"Obtaining time series predictions ...\")\n",
        "forecast = list(tqdm(forecast_it, total = len(test_data)))  #obtaining the time series predictions"
      ]
    },
    {
      "cell_type": "markdown",
      "metadata": {
        "id": "JGE0Me9hgJ8d"
      },
      "source": [
        "##Plot Forecasts"
      ]
    },
    {
      "cell_type": "code",
      "execution_count": null,
      "metadata": {
        "id": "l8GtyPcnAv75"
      },
      "outputs": [],
      "source": [
        "##Plot prediction results\n",
        "\n",
        "def plot_prob_forecasts(ts_entry, forecast_entry):   #time series entry and forecast entry\n",
        "    plot_length = prediction_length\n",
        "    prediction_intervals = (90.0, 95.0)\n",
        "    legend = [\"observations\", \"median prediction\"] + [f\"{k}% prediction interval\" for k in prediction_intervals][::-1]\n",
        "\n",
        "    fig, ax = plt.subplots(1, 1, figsize=(15, 7))\n",
        "    ts_entry[-plot_length:].plot(ax=ax)\n",
        "    forecast_entry.plot(prediction_intervals=prediction_intervals, color='g')\n",
        "    plt.grid(which=\"both\")\n",
        "    plt.legend(legend, loc=\"upper left\")\n",
        "    plt.show()\n",
        "\n",
        "def plot_prob_forecasts(ts_entry, forecast_entry, prediction_intervals, plot_length):\n",
        "    fig, ax = plt.subplots(1, 1, figsize=(20, 10))\n",
        "    ts_entry[-plot_length:].plot(ax=ax)\n",
        "\n",
        "    # Plotting the forecast quantiles\n",
        "    for quantile in prediction_intervals:\n",
        "        ax.fill_between(\n",
        "            forecast_entry.index[-plot_length:],\n",
        "            forecast_entry.quantile(quantile)[-plot_length:],\n",
        "            forecast_entry.quantile(1 - quantile)[-plot_length:],\n",
        "            color='g',\n",
        "            alpha=0.2\n",
        "        )\n",
        "\n",
        "    plt.grid(which=\"both\")\n",
        "    plt.legend([\"Observation\", \"Forecast\"], loc=\"upper left\")\n",
        "\n",
        "prediction_intervals = [0.8, 0.95]  # Define the desired prediction intervals\n",
        "plot_length = 300  # Define the number of time steps to plot"
      ]
    },
    {
      "cell_type": "code",
      "execution_count": null,
      "metadata": {
        "id": "atqevpk7Ax6x",
        "colab": {
          "base_uri": "https://localhost:8080/",
          "height": 1000,
          "referenced_widgets": [
            "5e3c74128c774931b8e5e9756a426190",
            "5249ce65fc8a4b4cb914decc3dcd1193",
            "b7845b8f79f847649ceb2d9f18b094f3",
            "f69810adb05640bfa0f05b22aa283330",
            "f9ced8365fa04079b9e7269b1d323190",
            "efc6cd8d40bf48699f0835f889b15386",
            "46f635f8253e4730967686be35bf2112",
            "1db026982ebe4c479fc1b84a5a17a499",
            "218c0f2bf4404b079bddae6f7483d4c9",
            "8ff590d8ddf1421485066019ec6cb991",
            "6ff4ba147e1a463ca105d49cb1e42d98"
          ]
        },
        "outputId": "d3bb5356-390e-4dde-8e44-1a2927a1afb2"
      },
      "outputs": [
        {
          "output_type": "display_data",
          "data": {
            "text/plain": [
              "  0%|          | 0/2 [00:00<?, ?it/s]"
            ],
            "application/vnd.jupyter.widget-view+json": {
              "version_major": 2,
              "version_minor": 0,
              "model_id": "5e3c74128c774931b8e5e9756a426190"
            }
          },
          "metadata": {}
        },
        {
          "output_type": "display_data",
          "data": {
            "text/plain": [
              "<Figure size 2000x1000 with 1 Axes>"
            ],
            "image/png": "[encoded data removed]"
          },
          "metadata": {}
        },
        {
          "output_type": "display_data",
          "data": {
            "text/plain": [
              "<Figure size 2000x1000 with 1 Axes>"
            ],
            "image/png": "[encoded data removed]"
          },
          "metadata": {}
        }
      ],
      "source": [
        "for i in tqdm(range(len(forecast))):\n",
        "    ts_entry = tss[i]\n",
        "    forecast_entry = forecast[i]\n",
        "    plot_prob_forecasts(ts_entry, forecast_entry, prediction_intervals, plot_length)"
      ]
    },
    {
      "cell_type": "code",
      "execution_count": null,
      "metadata": {
        "id": "VSkvGjOm-wY6",
        "colab": {
          "base_uri": "https://localhost:8080/"
        },
        "outputId": "42333209-0707-4eab-82d6-fbf743d0c721"
      },
      "outputs": [
        {
          "output_type": "stream",
          "name": "stdout",
          "text": [
            "Number of sample paths: 1000\n",
            "Dimension of samples: (1000, 300)\n",
            "Start date of the forecast window: 1970-01-01 06:37:20\n",
            "Frequency of the time series: <Second>\n"
          ]
        }
      ],
      "source": [
        "print(f\"Number of sample paths: {forecast_entry.num_samples}\")\n",
        "print(f\"Dimension of samples: {forecast_entry.samples.shape}\")\n",
        "print(f\"Start date of the forecast window: {forecast_entry.start_date}\")\n",
        "print(f\"Frequency of the time series: {forecast_entry.freq}\")"
      ]
    },
    {
      "cell_type": "code",
      "execution_count": null,
      "metadata": {
        "id": "ntpc-rDl-09Z"
      },
      "outputs": [],
      "source": [
        "print(f\"Mean of the future window:\\n {forecast_entry.mean}\")\n",
        "print(f\"0.5-quantile (median) of the future window:\\n {forecast_entry.quantile(0.5)}\")"
      ]
    },
    {
      "cell_type": "markdown",
      "metadata": {
        "id": "WkOuo0VagQMW"
      },
      "source": [
        "##Performance Evaluation"
      ]
    },
    {
      "cell_type": "code",
      "execution_count": null,
      "metadata": {
        "id": "2ToNvvWxA4qJ",
        "colab": {
          "base_uri": "https://localhost:8080/"
        },
        "outputId": "42d8aabf-a9ff-465a-c889-c34cbb80034d"
      },
      "outputs": [
        {
          "output_type": "stream",
          "name": "stderr",
          "text": [
            "Running evaluation: 100%|██████████| 2/2 [00:00<00:00,  4.69it/s]\n"
          ]
        }
      ],
      "source": [
        "from gluonts.evaluation import Evaluator\n",
        "evaluator = Evaluator(quantiles=[0.1, 0.5, 0.9])\n",
        "agg_metrics, item_metrics = evaluator(iter(tss), iter(forecast), num_series=len(test_data[25:]))"
      ]
    },
    {
      "cell_type": "code",
      "execution_count": null,
      "metadata": {
        "id": "Z1jrF-TIBQ58",
        "colab": {
          "base_uri": "https://localhost:8080/",
          "height": 211
        },
        "outputId": "328db766-0c9a-4a34-8ea8-6893f3d2ea64"
      },
      "outputs": [
        {
          "output_type": "execute_result",
          "data": {
            "text/plain": [
              "  item_id       forecast_start        MSE   abs_error  abs_target_sum  \\\n",
              "0    None  1970-01-01 06:37:20   2.138128  397.258301      245.492218   \n",
              "1    None  1970-01-01 06:37:20  11.408730  865.993896     3985.611816   \n",
              "\n",
              "   abs_target_mean  seasonal_error      MASE       MAPE     sMAPE        ND  \\\n",
              "0         0.818307        6.461931  0.204922  10.645719  1.459702  1.618211   \n",
              "1        13.285373       11.203709  0.257651   0.222213  0.264806  0.217280   \n",
              "\n",
              "       MSIS  QuantileLoss[0.1]  Coverage[0.1]  QuantileLoss[0.5]  \\\n",
              "0  5.745601          94.491150            0.0         397.258356   \n",
              "1  6.632610         213.486491            0.0         865.993900   \n",
              "\n",
              "   Coverage[0.5]  QuantileLoss[0.9]  Coverage[0.9]  \n",
              "0            0.0         579.772085       0.013333  \n",
              "1            0.0        1191.298900       0.026667  "
            ],
            "text/html": [
              "\n",
              "\n",
              "  <div id=\"df-1b27c257-a10c-4fda-a406-428d693515c2\">\n",
              "    <div class=\"colab-df-container\">\n",
              "      <div>\n",
              "<style scoped>\n",
              "    .dataframe tbody tr th:only-of-type {\n",
              "        vertical-align: middle;\n",
              "    }\n",
              "\n",
              "    .dataframe tbody tr th {\n",
              "        vertical-align: top;\n",
              "    }\n",
              "\n",
              "    .dataframe thead th {\n",
              "        text-align: right;\n",
              "    }\n",
              "</style>\n",
              "<table border=\"1\" class=\"dataframe\">\n",
              "  <thead>\n",
              "    <tr style=\"text-align: right;\">\n",
              "      <th></th>\n",
              "      <th>item_id</th>\n",
              "      <th>forecast_start</th>\n",
              "      <th>MSE</th>\n",
              "      <th>abs_error</th>\n",
              "      <th>abs_target_sum</th>\n",
              "      <th>abs_target_mean</th>\n",
              "      <th>seasonal_error</th>\n",
              "      <th>MASE</th>\n",
              "      <th>MAPE</th>\n",
              "      <th>sMAPE</th>\n",
              "      <th>ND</th>\n",
              "      <th>MSIS</th>\n",
              "      <th>QuantileLoss[0.1]</th>\n",
              "      <th>Coverage[0.1]</th>\n",
              "      <th>QuantileLoss[0.5]</th>\n",
              "      <th>Coverage[0.5]</th>\n",
              "      <th>QuantileLoss[0.9]</th>\n",
              "      <th>Coverage[0.9]</th>\n",
              "    </tr>\n",
              "  </thead>\n",
              "  <tbody>\n",
              "    <tr>\n",
              "      <th>0</th>\n",
              "      <td>None</td>\n",
              "      <td>1970-01-01 06:37:20</td>\n",
              "      <td>2.138128</td>\n",
              "      <td>397.258301</td>\n",
              "      <td>245.492218</td>\n",
              "      <td>0.818307</td>\n",
              "      <td>6.461931</td>\n",
              "      <td>0.204922</td>\n",
              "      <td>10.645719</td>\n",
              "      <td>1.459702</td>\n",
              "      <td>1.618211</td>\n",
              "      <td>5.745601</td>\n",
              "      <td>94.491150</td>\n",
              "      <td>0.0</td>\n",
              "      <td>397.258356</td>\n",
              "      <td>0.0</td>\n",
              "      <td>579.772085</td>\n",
              "      <td>0.013333</td>\n",
              "    </tr>\n",
              "    <tr>\n",
              "      <th>1</th>\n",
              "      <td>None</td>\n",
              "      <td>1970-01-01 06:37:20</td>\n",
              "      <td>11.408730</td>\n",
              "      <td>865.993896</td>\n",
              "      <td>3985.611816</td>\n",
              "      <td>13.285373</td>\n",
              "      <td>11.203709</td>\n",
              "      <td>0.257651</td>\n",
              "      <td>0.222213</td>\n",
              "      <td>0.264806</td>\n",
              "      <td>0.217280</td>\n",
              "      <td>6.632610</td>\n",
              "      <td>213.486491</td>\n",
              "      <td>0.0</td>\n",
              "      <td>865.993900</td>\n",
              "      <td>0.0</td>\n",
              "      <td>1191.298900</td>\n",
              "      <td>0.026667</td>\n",
              "    </tr>\n",
              "  </tbody>\n",
              "</table>\n",
              "</div>\n",
              "      <button class=\"colab-df-convert\" onclick=\"convertToInteractive('df-1b27c257-a10c-4fda-a406-428d693515c2')\"\n",
              "              title=\"Convert this dataframe to an interactive table.\"\n",
              "              style=\"display:none;\">\n",
              "\n",
              "  <svg xmlns=\"http://www.w3.org/2000/svg\" height=\"24px\"viewBox=\"0 0 24 24\"\n",
              "       width=\"24px\">\n",
              "    <path d=\"M0 0h24v24H0V0z\" fill=\"none\"/>\n",
              "    <path d=\"M18.56 5.44l.94 2.06.94-2.06 2.06-.94-2.06-.94-.94-2.06-.94 2.06-2.06.94zm-11 1L8.5 8.5l.94-2.06 2.06-.94-2.06-.94L8.5 2.5l-.94 2.06-2.06.94zm10 10l.94 2.06.94-2.06 2.06-.94-2.06-.94-.94-2.06-.94 2.06-2.06.94z\"/><path d=\"M17.41 7.96l-1.37-1.37c-.4-.4-.92-.59-1.43-.59-.52 0-1.04.2-1.43.59L10.3 9.45l-7.72 7.72c-.78.78-.78 2.05 0 2.83L4 21.41c.39.39.9.59 1.41.59.51 0 1.02-.2 1.41-.59l7.78-7.78 2.81-2.81c.8-.78.8-2.07 0-2.86zM5.41 20L4 18.59l7.72-7.72 1.47 1.35L5.41 20z\"/>\n",
              "  </svg>\n",
              "      </button>\n",
              "\n",
              "\n",
              "\n",
              "    <div id=\"df-c27230a8-1927-484e-89bc-82be9371a71a\">\n",
              "      <button class=\"colab-df-quickchart\" onclick=\"quickchart('df-c27230a8-1927-484e-89bc-82be9371a71a')\"\n",
              "              title=\"Suggest charts.\"\n",
              "              style=\"display:none;\">\n",
              "\n",
              "<svg xmlns=\"http://www.w3.org/2000/svg\" height=\"24px\"viewBox=\"0 0 24 24\"\n",
              "     width=\"24px\">\n",
              "    <g>\n",
              "        <path d=\"M19 3H5c-1.1 0-2 .9-2 2v14c0 1.1.9 2 2 2h14c1.1 0 2-.9 2-2V5c0-1.1-.9-2-2-2zM9 17H7v-7h2v7zm4 0h-2V7h2v10zm4 0h-2v-4h2v4z\"/>\n",
              "    </g>\n",
              "</svg>\n",
              "      </button>\n",
              "    </div>\n",
              "\n",
              "<style>\n",
              "  .colab-df-quickchart {\n",
              "    background-color: #E8F0FE;\n",
              "    border: none;\n",
              "    border-radius: 50%;\n",
              "    cursor: pointer;\n",
              "    display: none;\n",
              "    fill: #1967D2;\n",
              "    height: 32px;\n",
              "    padding: 0 0 0 0;\n",
              "    width: 32px;\n",
              "  }\n",
              "\n",
              "  .colab-df-quickchart:hover {\n",
              "    background-color: #E2EBFA;\n",
              "    box-shadow: 0px 1px 2px rgba(60, 64, 67, 0.3), 0px 1px 3px 1px rgba(60, 64, 67, 0.15);\n",
              "    fill: #174EA6;\n",
              "  }\n",
              "\n",
              "  [theme=dark] .colab-df-quickchart {\n",
              "    background-color: #3B4455;\n",
              "    fill: #D2E3FC;\n",
              "  }\n",
              "\n",
              "  [theme=dark] .colab-df-quickchart:hover {\n",
              "    background-color: #434B5C;\n",
              "    box-shadow: 0px 1px 3px 1px rgba(0, 0, 0, 0.15);\n",
              "    filter: drop-shadow(0px 1px 2px rgba(0, 0, 0, 0.3));\n",
              "    fill: #FFFFFF;\n",
              "  }\n",
              "</style>\n",
              "\n",
              "    <script>\n",
              "      async function quickchart(key) {\n",
              "        const containerElement = document.querySelector('#' + key);\n",
              "        const charts = await google.colab.kernel.invokeFunction(\n",
              "            'suggestCharts', [key], {});\n",
              "      }\n",
              "    </script>\n",
              "\n",
              "      <script>\n",
              "\n",
              "function displayQuickchartButton(domScope) {\n",
              "  let quickchartButtonEl =\n",
              "    domScope.querySelector('#df-c27230a8-1927-484e-89bc-82be9371a71a button.colab-df-quickchart');\n",
              "  quickchartButtonEl.style.display =\n",
              "    google.colab.kernel.accessAllowed ? 'block' : 'none';\n",
              "}\n",
              "\n",
              "        displayQuickchartButton(document);\n",
              "      </script>\n",
              "      <style>\n",
              "    .colab-df-container {\n",
              "      display:flex;\n",
              "      flex-wrap:wrap;\n",
              "      gap: 12px;\n",
              "    }\n",
              "\n",
              "    .colab-df-convert {\n",
              "      background-color: #E8F0FE;\n",
              "      border: none;\n",
              "      border-radius: 50%;\n",
              "      cursor: pointer;\n",
              "      display: none;\n",
              "      fill: #1967D2;\n",
              "      height: 32px;\n",
              "      padding: 0 0 0 0;\n",
              "      width: 32px;\n",
              "    }\n",
              "\n",
              "    .colab-df-convert:hover {\n",
              "      background-color: #E2EBFA;\n",
              "      box-shadow: 0px 1px 2px rgba(60, 64, 67, 0.3), 0px 1px 3px 1px rgba(60, 64, 67, 0.15);\n",
              "      fill: #174EA6;\n",
              "    }\n",
              "\n",
              "    [theme=dark] .colab-df-convert {\n",
              "      background-color: #3B4455;\n",
              "      fill: #D2E3FC;\n",
              "    }\n",
              "\n",
              "    [theme=dark] .colab-df-convert:hover {\n",
              "      background-color: #434B5C;\n",
              "      box-shadow: 0px 1px 3px 1px rgba(0, 0, 0, 0.15);\n",
              "      filter: drop-shadow(0px 1px 2px rgba(0, 0, 0, 0.3));\n",
              "      fill: #FFFFFF;\n",
              "    }\n",
              "  </style>\n",
              "\n",
              "      <script>\n",
              "        const buttonEl =\n",
              "          document.querySelector('#df-1b27c257-a10c-4fda-a406-428d693515c2 button.colab-df-convert');\n",
              "        buttonEl.style.display =\n",
              "          google.colab.kernel.accessAllowed ? 'block' : 'none';\n",
              "\n",
              "        async function convertToInteractive(key) {\n",
              "          const element = document.querySelector('#df-1b27c257-a10c-4fda-a406-428d693515c2');\n",
              "          const dataTable =\n",
              "            await google.colab.kernel.invokeFunction('convertToInteractive',\n",
              "                                                     [key], {});\n",
              "          if (!dataTable) return;\n",
              "\n",
              "          const docLinkHtml = 'Like what you see? Visit the ' +\n",
              "            '<a target=\"_blank\" href=https://colab.research.google.com/notebooks/data_table.ipynb>data table notebook</a>'\n",
              "            + ' to learn more about interactive tables.';\n",
              "          element.innerHTML = '';\n",
              "          dataTable['output_type'] = 'display_data';\n",
              "          await google.colab.output.renderOutput(dataTable, element);\n",
              "          const docLink = document.createElement('div');\n",
              "          docLink.innerHTML = docLinkHtml;\n",
              "          element.appendChild(docLink);\n",
              "        }\n",
              "      </script>\n",
              "    </div>\n",
              "  </div>\n"
            ]
          },
          "metadata": {},
          "execution_count": 52
        }
      ],
      "source": [
        "item_metrics"
      ]
    },
    {
      "cell_type": "code",
      "execution_count": null,
      "metadata": {
        "id": "pHXUxaAkL4P4",
        "colab": {
          "base_uri": "https://localhost:8080/",
          "height": 449
        },
        "outputId": "ea9bf97a-1c6b-4d3f-b3a8-7934671724e7"
      },
      "outputs": [
        {
          "output_type": "display_data",
          "data": {
            "text/plain": [
              "<Figure size 640x480 with 1 Axes>"
            ],
            "image/png": "[encoded data removed]"
          },
          "metadata": {}
        }
      ],
      "source": [
        "item_metrics.plot(x=\"MSIS\", y=\"MAPE\", kind=\"scatter\")\n",
        "plt.grid(which=\"both\")\n",
        "plt.show()"
      ]
    },
    {
      "cell_type": "markdown",
      "metadata": {
        "id": "4728ZHThrHm5"
      },
      "source": [
        "##Hyperparameter Tuning"
      ]
    },
    {
      "cell_type": "code",
      "execution_count": null,
      "metadata": {
        "id": "T6yoBBJIrMzZ"
      },
      "outputs": [],
      "source": [
        "%%capture\n",
        "%pip install optuna"
      ]
    },
    {
      "cell_type": "code",
      "execution_count": null,
      "metadata": {
        "id": "-Klfy-rNrJhp"
      },
      "outputs": [],
      "source": [
        "import optuna"
      ]
    },
    {
      "cell_type": "code",
      "execution_count": null,
      "metadata": {
        "id": "T8polHiKrVjJ"
      },
      "outputs": [],
      "source": [
        "def objective(trial):\n",
        "    # Here we optimize the hyperparameters of DeepAR\n",
        "    trainer = Trainer(\n",
        "        ctx=mx.gpu(0),\n",
        "        epochs=trial.suggest_int(\"epochs\", 15, 25),\n",
        "        learning_rate=trial.suggest_float(\"learning_rate\", 1e-5, 1e-1, log=True),\n",
        "    )\n",
        "\n",
        "    estimator = DeepAREstimator(\n",
        "        trainer=trainer,\n",
        "        context_length=trial.suggest_int(\"context_length\", 800, 5000),\n",
        "        num_layers=trial.suggest_int(\"num_layers\", 2, 4),\n",
        "        num_cells=trial.suggest_int(\"num_cells\", 40, 100),\n",
        "        batch_size = trial.suggest_int(\"batch_size\",32,128),\n",
        "        freq='S',\n",
        "        prediction_length=trial.suggest_int(\"prediction_length\",60, 300),\n",
        "        dropout_rate=trial.suggest_float(\"dropout_rate\",0.1,0.5),\n",
        "    )\n",
        "\n",
        "    # We fit the model and calculate the accuracy on test set\n",
        "    predictor = estimator.train(training_data=train_ds)\n",
        "    forecast_it, ts_it = make_evaluation_predictions(\n",
        "        dataset=test_ds,\n",
        "        predictor=predictor,\n",
        "        num_samples=100\n",
        "    )\n",
        "    forecasts = list(forecast_it)\n",
        "    tss = list(ts_it)\n",
        "\n",
        "    evaluator = Evaluator(quantiles=[0.1, 0.5, 0.9])\n",
        "    agg_metrics, item_metrics = evaluator(iter(tss), iter(forecasts), num_series=len(test_ds))\n",
        "\n",
        "    print(agg_metrics)\n",
        "\n",
        "    return agg_metrics[\"RMSE\"]  # objective is to minimize RMSE"
      ]
    },
    {
      "cell_type": "code",
      "execution_count": null,
      "metadata": {
        "id": "lv7WR3S_EG3q",
        "colab": {
          "base_uri": "https://localhost:8080/"
        },
        "outputId": "a954c48e-dbe9-43c8-b215-dd95d064c9a6"
      },
      "outputs": [
        {
          "output_type": "stream",
          "name": "stderr",
          "text": [
            "[I 2023-08-05 15:53:08,199] A new study created in memory with name: no-name-6c522e4d-f7d2-49f4-80f6-d7dfb9c0c3a2\n",
            "100%|██████████| 50/50 [24:47<00:00, 29.76s/it, epoch=1/23, avg_epoch_loss=3.98]\n",
            "100%|██████████| 50/50 [11:39<00:00, 13.99s/it, epoch=2/23, avg_epoch_loss=2.93]\n",
            "100%|██████████| 50/50 [11:33<00:00, 13.87s/it, epoch=3/23, avg_epoch_loss=3.15]\n",
            "100%|██████████| 50/50 [11:27<00:00, 13.75s/it, epoch=4/23, avg_epoch_loss=2.56]\n",
            "100%|██████████| 50/50 [11:26<00:00, 13.72s/it, epoch=5/23, avg_epoch_loss=2.67]\n",
            "100%|██████████| 50/50 [11:24<00:00, 13.69s/it, epoch=6/23, avg_epoch_loss=1.78]\n",
            "100%|██████████| 50/50 [11:14<00:00, 13.50s/it, epoch=7/23, avg_epoch_loss=2.25]\n",
            "100%|██████████| 50/50 [11:17<00:00, 13.55s/it, epoch=8/23, avg_epoch_loss=2.43]\n",
            "100%|██████████| 50/50 [11:21<00:00, 13.63s/it, epoch=9/23, avg_epoch_loss=1.5]\n",
            "100%|██████████| 50/50 [11:23<00:00, 13.67s/it, epoch=10/23, avg_epoch_loss=2.27]\n",
            "100%|██████████| 50/50 [11:24<00:00, 13.69s/it, epoch=11/23, avg_epoch_loss=1.69]\n",
            "100%|██████████| 50/50 [11:28<00:00, 13.77s/it, epoch=12/23, avg_epoch_loss=2.14]\n",
            "100%|██████████| 50/50 [11:18<00:00, 13.56s/it, epoch=13/23, avg_epoch_loss=1.19]\n",
            "100%|██████████| 50/50 [11:16<00:00, 13.54s/it, epoch=14/23, avg_epoch_loss=1.42]\n",
            "100%|██████████| 50/50 [11:16<00:00, 13.52s/it, epoch=15/23, avg_epoch_loss=1.27]\n",
            "100%|██████████| 50/50 [11:19<00:00, 13.59s/it, epoch=16/23, avg_epoch_loss=1.22]\n",
            "100%|██████████| 50/50 [11:23<00:00, 13.67s/it, epoch=17/23, avg_epoch_loss=1.1]\n",
            "100%|██████████| 50/50 [11:21<00:00, 13.62s/it, epoch=18/23, avg_epoch_loss=0.675]\n",
            "100%|██████████| 50/50 [11:33<00:00, 13.86s/it, epoch=19/23, avg_epoch_loss=0.585]\n",
            "100%|██████████| 50/50 [11:26<00:00, 13.74s/it, epoch=20/23, avg_epoch_loss=0.484]\n",
            "100%|██████████| 50/50 [11:15<00:00, 13.51s/it, epoch=21/23, avg_epoch_loss=0.427]\n",
            "100%|██████████| 50/50 [11:16<00:00, 13.53s/it, epoch=22/23, avg_epoch_loss=0.389]\n",
            "100%|██████████| 50/50 [11:23<00:00, 13.68s/it, epoch=23/23, avg_epoch_loss=0.336]\n"
          ]
        }
      ],
      "source": [
        "study = optuna.create_study(direction=\"minimize\")\n",
        "study.optimize(objective, n_trials=10)\n",
        "\n",
        "trial = study.best_trial\n",
        "\n",
        "print(\"Best trial:\")\n",
        "print(\"  Value: \", trial.value)\n",
        "\n",
        "print(\"Best parameters: \")\n",
        "for key, value in trial.params.items():\n",
        "    print(\"  {}: {}\".format(key, value))"
      ]
    }
  ],
  "metadata": {
    "accelerator": "GPU",
    "colab": {
      "machine_shape": "hm",
      "provenance": [],
      "gpuType": "T4"
    },
    "kernelspec": {
      "display_name": "Python 3",
      "name": "python3"
    },
    "language_info": {
      "name": "python"
    },
    "widgets": {
      "application/vnd.jupyter.widget-state+json": {
        "3c2f28a23d5346739448970800774e40": {
          "model_module": "@jupyter-widgets/controls",
          "model_name": "HBoxModel",
          "model_module_version": "1.5.0",
          "state": {
            "_dom_classes": [],
            "_model_module": "@jupyter-widgets/controls",
            "_model_module_version": "1.5.0",
            "_model_name": "HBoxModel",
            "_view_count": null,
            "_view_module": "@jupyter-widgets/controls",
            "_view_module_version": "1.5.0",
            "_view_name": "HBoxView",
            "box_style": "",
            "children": [
              "IPY_MODEL_286f3f46b5634eb7a2b41fb543b32493",
              "IPY_MODEL_6223363182e74ecab2a38f552e5c4e9c",
              "IPY_MODEL_ee94fb18a1bd42309be5476b51d6cac6"
            ],
            "layout": "IPY_MODEL_69a35fd1f4eb48d28cf099eb7f870eb8"
          }
        },
        "286f3f46b5634eb7a2b41fb543b32493": {
          "model_module": "@jupyter-widgets/controls",
          "model_name": "HTMLModel",
          "model_module_version": "1.5.0",
          "state": {
            "_dom_classes": [],
            "_model_module": "@jupyter-widgets/controls",
            "_model_module_version": "1.5.0",
            "_model_name": "HTMLModel",
            "_view_count": null,
            "_view_module": "@jupyter-widgets/controls",
            "_view_module_version": "1.5.0",
            "_view_name": "HTMLView",
            "description": "",
            "description_tooltip": null,
            "layout": "IPY_MODEL_9201100cc1544300ac48213b0f480493",
            "placeholder": "​",
            "style": "IPY_MODEL_12a892a154624385aa682e980e1d472d",
            "value": "  7%"
          }
        },
        "6223363182e74ecab2a38f552e5c4e9c": {
          "model_module": "@jupyter-widgets/controls",
          "model_name": "FloatProgressModel",
          "model_module_version": "1.5.0",
          "state": {
            "_dom_classes": [],
            "_model_module": "@jupyter-widgets/controls",
            "_model_module_version": "1.5.0",
            "_model_name": "FloatProgressModel",
            "_view_count": null,
            "_view_module": "@jupyter-widgets/controls",
            "_view_module_version": "1.5.0",
            "_view_name": "ProgressView",
            "bar_style": "danger",
            "description": "",
            "description_tooltip": null,
            "layout": "IPY_MODEL_32e090eceea04a0580bd7b8ab938a550",
            "max": 27,
            "min": 0,
            "orientation": "horizontal",
            "style": "IPY_MODEL_e96c894cc0664fc89f7d1165ed970d85",
            "value": 2
          }
        },
        "ee94fb18a1bd42309be5476b51d6cac6": {
          "model_module": "@jupyter-widgets/controls",
          "model_name": "HTMLModel",
          "model_module_version": "1.5.0",
          "state": {
            "_dom_classes": [],
            "_model_module": "@jupyter-widgets/controls",
            "_model_module_version": "1.5.0",
            "_model_name": "HTMLModel",
            "_view_count": null,
            "_view_module": "@jupyter-widgets/controls",
            "_view_module_version": "1.5.0",
            "_view_name": "HTMLView",
            "description": "",
            "description_tooltip": null,
            "layout": "IPY_MODEL_00722e5e10eb41bb9b586d8eff45305f",
            "placeholder": "​",
            "style": "IPY_MODEL_b32e04cde11d4a37a14bca1ea5a57e7f",
            "value": " 2/27 [00:00&lt;00:00, 119.68it/s]"
          }
        },
        "69a35fd1f4eb48d28cf099eb7f870eb8": {
          "model_module": "@jupyter-widgets/base",
          "model_name": "LayoutModel",
          "model_module_version": "1.2.0",
          "state": {
            "_model_module": "@jupyter-widgets/base",
            "_model_module_version": "1.2.0",
            "_model_name": "LayoutModel",
            "_view_count": null,
            "_view_module": "@jupyter-widgets/base",
            "_view_module_version": "1.2.0",
            "_view_name": "LayoutView",
            "align_content": null,
            "align_items": null,
            "align_self": null,
            "border": null,
            "bottom": null,
            "display": null,
            "flex": null,
            "flex_flow": null,
            "grid_area": null,
            "grid_auto_columns": null,
            "grid_auto_flow": null,
            "grid_auto_rows": null,
            "grid_column": null,
            "grid_gap": null,
            "grid_row": null,
            "grid_template_areas": null,
            "grid_template_columns": null,
            "grid_template_rows": null,
            "height": null,
            "justify_content": null,
            "justify_items": null,
            "left": null,
            "margin": null,
            "max_height": null,
            "max_width": null,
            "min_height": null,
            "min_width": null,
            "object_fit": null,
            "object_position": null,
            "order": null,
            "overflow": null,
            "overflow_x": null,
            "overflow_y": null,
            "padding": null,
            "right": null,
            "top": null,
            "visibility": null,
            "width": null
          }
        },
        "9201100cc1544300ac48213b0f480493": {
          "model_module": "@jupyter-widgets/base",
          "model_name": "LayoutModel",
          "model_module_version": "1.2.0",
          "state": {
            "_model_module": "@jupyter-widgets/base",
            "_model_module_version": "1.2.0",
            "_model_name": "LayoutModel",
            "_view_count": null,
            "_view_module": "@jupyter-widgets/base",
            "_view_module_version": "1.2.0",
            "_view_name": "LayoutView",
            "align_content": null,
            "align_items": null,
            "align_self": null,
            "border": null,
            "bottom": null,
            "display": null,
            "flex": null,
            "flex_flow": null,
            "grid_area": null,
            "grid_auto_columns": null,
            "grid_auto_flow": null,
            "grid_auto_rows": null,
            "grid_column": null,
            "grid_gap": null,
            "grid_row": null,
            "grid_template_areas": null,
            "grid_template_columns": null,
            "grid_template_rows": null,
            "height": null,
            "justify_content": null,
            "justify_items": null,
            "left": null,
            "margin": null,
            "max_height": null,
            "max_width": null,
            "min_height": null,
            "min_width": null,
            "object_fit": null,
            "object_position": null,
            "order": null,
            "overflow": null,
            "overflow_x": null,
            "overflow_y": null,
            "padding": null,
            "right": null,
            "top": null,
            "visibility": null,
            "width": null
          }
        },
        "12a892a154624385aa682e980e1d472d": {
          "model_module": "@jupyter-widgets/controls",
          "model_name": "DescriptionStyleModel",
          "model_module_version": "1.5.0",
          "state": {
            "_model_module": "@jupyter-widgets/controls",
            "_model_module_version": "1.5.0",
            "_model_name": "DescriptionStyleModel",
            "_view_count": null,
            "_view_module": "@jupyter-widgets/base",
            "_view_module_version": "1.2.0",
            "_view_name": "StyleView",
            "description_width": ""
          }
        },
        "32e090eceea04a0580bd7b8ab938a550": {
          "model_module": "@jupyter-widgets/base",
          "model_name": "LayoutModel",
          "model_module_version": "1.2.0",
          "state": {
            "_model_module": "@jupyter-widgets/base",
            "_model_module_version": "1.2.0",
            "_model_name": "LayoutModel",
            "_view_count": null,
            "_view_module": "@jupyter-widgets/base",
            "_view_module_version": "1.2.0",
            "_view_name": "LayoutView",
            "align_content": null,
            "align_items": null,
            "align_self": null,
            "border": null,
            "bottom": null,
            "display": null,
            "flex": null,
            "flex_flow": null,
            "grid_area": null,
            "grid_auto_columns": null,
            "grid_auto_flow": null,
            "grid_auto_rows": null,
            "grid_column": null,
            "grid_gap": null,
            "grid_row": null,
            "grid_template_areas": null,
            "grid_template_columns": null,
            "grid_template_rows": null,
            "height": null,
            "justify_content": null,
            "justify_items": null,
            "left": null,
            "margin": null,
            "max_height": null,
            "max_width": null,
            "min_height": null,
            "min_width": null,
            "object_fit": null,
            "object_position": null,
            "order": null,
            "overflow": null,
            "overflow_x": null,
            "overflow_y": null,
            "padding": null,
            "right": null,
            "top": null,
            "visibility": null,
            "width": null
          }
        },
        "e96c894cc0664fc89f7d1165ed970d85": {
          "model_module": "@jupyter-widgets/controls",
          "model_name": "ProgressStyleModel",
          "model_module_version": "1.5.0",
          "state": {
            "_model_module": "@jupyter-widgets/controls",
            "_model_module_version": "1.5.0",
            "_model_name": "ProgressStyleModel",
            "_view_count": null,
            "_view_module": "@jupyter-widgets/base",
            "_view_module_version": "1.2.0",
            "_view_name": "StyleView",
            "bar_color": null,
            "description_width": ""
          }
        },
        "00722e5e10eb41bb9b586d8eff45305f": {
          "model_module": "@jupyter-widgets/base",
          "model_name": "LayoutModel",
          "model_module_version": "1.2.0",
          "state": {
            "_model_module": "@jupyter-widgets/base",
            "_model_module_version": "1.2.0",
            "_model_name": "LayoutModel",
            "_view_count": null,
            "_view_module": "@jupyter-widgets/base",
            "_view_module_version": "1.2.0",
            "_view_name": "LayoutView",
            "align_content": null,
            "align_items": null,
            "align_self": null,
            "border": null,
            "bottom": null,
            "display": null,
            "flex": null,
            "flex_flow": null,
            "grid_area": null,
            "grid_auto_columns": null,
            "grid_auto_flow": null,
            "grid_auto_rows": null,
            "grid_column": null,
            "grid_gap": null,
            "grid_row": null,
            "grid_template_areas": null,
            "grid_template_columns": null,
            "grid_template_rows": null,
            "height": null,
            "justify_content": null,
            "justify_items": null,
            "left": null,
            "margin": null,
            "max_height": null,
            "max_width": null,
            "min_height": null,
            "min_width": null,
            "object_fit": null,
            "object_position": null,
            "order": null,
            "overflow": null,
            "overflow_x": null,
            "overflow_y": null,
            "padding": null,
            "right": null,
            "top": null,
            "visibility": null,
            "width": null
          }
        },
        "b32e04cde11d4a37a14bca1ea5a57e7f": {
          "model_module": "@jupyter-widgets/controls",
          "model_name": "DescriptionStyleModel",
          "model_module_version": "1.5.0",
          "state": {
            "_model_module": "@jupyter-widgets/controls",
            "_model_module_version": "1.5.0",
            "_model_name": "DescriptionStyleModel",
            "_view_count": null,
            "_view_module": "@jupyter-widgets/base",
            "_view_module_version": "1.2.0",
            "_view_name": "StyleView",
            "description_width": ""
          }
        },
        "f5f172d87b3c4f39bdb725491bcb85c2": {
          "model_module": "@jupyter-widgets/controls",
          "model_name": "HBoxModel",
          "model_module_version": "1.5.0",
          "state": {
            "_dom_classes": [],
            "_model_module": "@jupyter-widgets/controls",
            "_model_module_version": "1.5.0",
            "_model_name": "HBoxModel",
            "_view_count": null,
            "_view_module": "@jupyter-widgets/controls",
            "_view_module_version": "1.5.0",
            "_view_name": "HBoxView",
            "box_style": "",
            "children": [
              "IPY_MODEL_8c5d2b0d69c342699956e674abd7ef62",
              "IPY_MODEL_b80ca34265e347b4a46f852793311c4e",
              "IPY_MODEL_35b83b14a0594dfabd0209cde5d66cb8"
            ],
            "layout": "IPY_MODEL_ec5a09db8b514dde9c70df019b75728c"
          }
        },
        "8c5d2b0d69c342699956e674abd7ef62": {
          "model_module": "@jupyter-widgets/controls",
          "model_name": "HTMLModel",
          "model_module_version": "1.5.0",
          "state": {
            "_dom_classes": [],
            "_model_module": "@jupyter-widgets/controls",
            "_model_module_version": "1.5.0",
            "_model_name": "HTMLModel",
            "_view_count": null,
            "_view_module": "@jupyter-widgets/controls",
            "_view_module_version": "1.5.0",
            "_view_name": "HTMLView",
            "description": "",
            "description_tooltip": null,
            "layout": "IPY_MODEL_a1d7cc01119744d08eb54e39a169e487",
            "placeholder": "​",
            "style": "IPY_MODEL_e8f23810680f4f9a8ec7485c51aada13",
            "value": "  7%"
          }
        },
        "b80ca34265e347b4a46f852793311c4e": {
          "model_module": "@jupyter-widgets/controls",
          "model_name": "FloatProgressModel",
          "model_module_version": "1.5.0",
          "state": {
            "_dom_classes": [],
            "_model_module": "@jupyter-widgets/controls",
            "_model_module_version": "1.5.0",
            "_model_name": "FloatProgressModel",
            "_view_count": null,
            "_view_module": "@jupyter-widgets/controls",
            "_view_module_version": "1.5.0",
            "_view_name": "ProgressView",
            "bar_style": "danger",
            "description": "",
            "description_tooltip": null,
            "layout": "IPY_MODEL_739da834303b4cd29ec195145ecd113e",
            "max": 27,
            "min": 0,
            "orientation": "horizontal",
            "style": "IPY_MODEL_692caed9daf147b5bfaa92843ee4f4c0",
            "value": 2
          }
        },
        "35b83b14a0594dfabd0209cde5d66cb8": {
          "model_module": "@jupyter-widgets/controls",
          "model_name": "HTMLModel",
          "model_module_version": "1.5.0",
          "state": {
            "_dom_classes": [],
            "_model_module": "@jupyter-widgets/controls",
            "_model_module_version": "1.5.0",
            "_model_name": "HTMLModel",
            "_view_count": null,
            "_view_module": "@jupyter-widgets/controls",
            "_view_module_version": "1.5.0",
            "_view_name": "HTMLView",
            "description": "",
            "description_tooltip": null,
            "layout": "IPY_MODEL_a6c5d804b0694f90b3084067b31ebf67",
            "placeholder": "​",
            "style": "IPY_MODEL_4c6fe796430d444c9ab96494babf32b0",
            "value": " 2/27 [00:59&lt;24:58, 59.94s/it]"
          }
        },
        "ec5a09db8b514dde9c70df019b75728c": {
          "model_module": "@jupyter-widgets/base",
          "model_name": "LayoutModel",
          "model_module_version": "1.2.0",
          "state": {
            "_model_module": "@jupyter-widgets/base",
            "_model_module_version": "1.2.0",
            "_model_name": "LayoutModel",
            "_view_count": null,
            "_view_module": "@jupyter-widgets/base",
            "_view_module_version": "1.2.0",
            "_view_name": "LayoutView",
            "align_content": null,
            "align_items": null,
            "align_self": null,
            "border": null,
            "bottom": null,
            "display": null,
            "flex": null,
            "flex_flow": null,
            "grid_area": null,
            "grid_auto_columns": null,
            "grid_auto_flow": null,
            "grid_auto_rows": null,
            "grid_column": null,
            "grid_gap": null,
            "grid_row": null,
            "grid_template_areas": null,
            "grid_template_columns": null,
            "grid_template_rows": null,
            "height": null,
            "justify_content": null,
            "justify_items": null,
            "left": null,
            "margin": null,
            "max_height": null,
            "max_width": null,
            "min_height": null,
            "min_width": null,
            "object_fit": null,
            "object_position": null,
            "order": null,
            "overflow": null,
            "overflow_x": null,
            "overflow_y": null,
            "padding": null,
            "right": null,
            "top": null,
            "visibility": null,
            "width": null
          }
        },
        "a1d7cc01119744d08eb54e39a169e487": {
          "model_module": "@jupyter-widgets/base",
          "model_name": "LayoutModel",
          "model_module_version": "1.2.0",
          "state": {
            "_model_module": "@jupyter-widgets/base",
            "_model_module_version": "1.2.0",
            "_model_name": "LayoutModel",
            "_view_count": null,
            "_view_module": "@jupyter-widgets/base",
            "_view_module_version": "1.2.0",
            "_view_name": "LayoutView",
            "align_content": null,
            "align_items": null,
            "align_self": null,
            "border": null,
            "bottom": null,
            "display": null,
            "flex": null,
            "flex_flow": null,
            "grid_area": null,
            "grid_auto_columns": null,
            "grid_auto_flow": null,
            "grid_auto_rows": null,
            "grid_column": null,
            "grid_gap": null,
            "grid_row": null,
            "grid_template_areas": null,
            "grid_template_columns": null,
            "grid_template_rows": null,
            "height": null,
            "justify_content": null,
            "justify_items": null,
            "left": null,
            "margin": null,
            "max_height": null,
            "max_width": null,
            "min_height": null,
            "min_width": null,
            "object_fit": null,
            "object_position": null,
            "order": null,
            "overflow": null,
            "overflow_x": null,
            "overflow_y": null,
            "padding": null,
            "right": null,
            "top": null,
            "visibility": null,
            "width": null
          }
        },
        "e8f23810680f4f9a8ec7485c51aada13": {
          "model_module": "@jupyter-widgets/controls",
          "model_name": "DescriptionStyleModel",
          "model_module_version": "1.5.0",
          "state": {
            "_model_module": "@jupyter-widgets/controls",
            "_model_module_version": "1.5.0",
            "_model_name": "DescriptionStyleModel",
            "_view_count": null,
            "_view_module": "@jupyter-widgets/base",
            "_view_module_version": "1.2.0",
            "_view_name": "StyleView",
            "description_width": ""
          }
        },
        "739da834303b4cd29ec195145ecd113e": {
          "model_module": "@jupyter-widgets/base",
          "model_name": "LayoutModel",
          "model_module_version": "1.2.0",
          "state": {
            "_model_module": "@jupyter-widgets/base",
            "_model_module_version": "1.2.0",
            "_model_name": "LayoutModel",
            "_view_count": null,
            "_view_module": "@jupyter-widgets/base",
            "_view_module_version": "1.2.0",
            "_view_name": "LayoutView",
            "align_content": null,
            "align_items": null,
            "align_self": null,
            "border": null,
            "bottom": null,
            "display": null,
            "flex": null,
            "flex_flow": null,
            "grid_area": null,
            "grid_auto_columns": null,
            "grid_auto_flow": null,
            "grid_auto_rows": null,
            "grid_column": null,
            "grid_gap": null,
            "grid_row": null,
            "grid_template_areas": null,
            "grid_template_columns": null,
            "grid_template_rows": null,
            "height": null,
            "justify_content": null,
            "justify_items": null,
            "left": null,
            "margin": null,
            "max_height": null,
            "max_width": null,
            "min_height": null,
            "min_width": null,
            "object_fit": null,
            "object_position": null,
            "order": null,
            "overflow": null,
            "overflow_x": null,
            "overflow_y": null,
            "padding": null,
            "right": null,
            "top": null,
            "visibility": null,
            "width": null
          }
        },
        "692caed9daf147b5bfaa92843ee4f4c0": {
          "model_module": "@jupyter-widgets/controls",
          "model_name": "ProgressStyleModel",
          "model_module_version": "1.5.0",
          "state": {
            "_model_module": "@jupyter-widgets/controls",
            "_model_module_version": "1.5.0",
            "_model_name": "ProgressStyleModel",
            "_view_count": null,
            "_view_module": "@jupyter-widgets/base",
            "_view_module_version": "1.2.0",
            "_view_name": "StyleView",
            "bar_color": null,
            "description_width": ""
          }
        },
        "a6c5d804b0694f90b3084067b31ebf67": {
          "model_module": "@jupyter-widgets/base",
          "model_name": "LayoutModel",
          "model_module_version": "1.2.0",
          "state": {
            "_model_module": "@jupyter-widgets/base",
            "_model_module_version": "1.2.0",
            "_model_name": "LayoutModel",
            "_view_count": null,
            "_view_module": "@jupyter-widgets/base",
            "_view_module_version": "1.2.0",
            "_view_name": "LayoutView",
            "align_content": null,
            "align_items": null,
            "align_self": null,
            "border": null,
            "bottom": null,
            "display": null,
            "flex": null,
            "flex_flow": null,
            "grid_area": null,
            "grid_auto_columns": null,
            "grid_auto_flow": null,
            "grid_auto_rows": null,
            "grid_column": null,
            "grid_gap": null,
            "grid_row": null,
            "grid_template_areas": null,
            "grid_template_columns": null,
            "grid_template_rows": null,
            "height": null,
            "justify_content": null,
            "justify_items": null,
            "left": null,
            "margin": null,
            "max_height": null,
            "max_width": null,
            "min_height": null,
            "min_width": null,
            "object_fit": null,
            "object_position": null,
            "order": null,
            "overflow": null,
            "overflow_x": null,
            "overflow_y": null,
            "padding": null,
            "right": null,
            "top": null,
            "visibility": null,
            "width": null
          }
        },
        "4c6fe796430d444c9ab96494babf32b0": {
          "model_module": "@jupyter-widgets/controls",
          "model_name": "DescriptionStyleModel",
          "model_module_version": "1.5.0",
          "state": {
            "_model_module": "@jupyter-widgets/controls",
            "_model_module_version": "1.5.0",
            "_model_name": "DescriptionStyleModel",
            "_view_count": null,
            "_view_module": "@jupyter-widgets/base",
            "_view_module_version": "1.2.0",
            "_view_name": "StyleView",
            "description_width": ""
          }
        },
        "5e3c74128c774931b8e5e9756a426190": {
          "model_module": "@jupyter-widgets/controls",
          "model_name": "HBoxModel",
          "model_module_version": "1.5.0",
          "state": {
            "_dom_classes": [],
            "_model_module": "@jupyter-widgets/controls",
            "_model_module_version": "1.5.0",
            "_model_name": "HBoxModel",
            "_view_count": null,
            "_view_module": "@jupyter-widgets/controls",
            "_view_module_version": "1.5.0",
            "_view_name": "HBoxView",
            "box_style": "",
            "children": [
              "IPY_MODEL_5249ce65fc8a4b4cb914decc3dcd1193",
              "IPY_MODEL_b7845b8f79f847649ceb2d9f18b094f3",
              "IPY_MODEL_f69810adb05640bfa0f05b22aa283330"
            ],
            "layout": "IPY_MODEL_f9ced8365fa04079b9e7269b1d323190"
          }
        },
        "5249ce65fc8a4b4cb914decc3dcd1193": {
          "model_module": "@jupyter-widgets/controls",
          "model_name": "HTMLModel",
          "model_module_version": "1.5.0",
          "state": {
            "_dom_classes": [],
            "_model_module": "@jupyter-widgets/controls",
            "_model_module_version": "1.5.0",
            "_model_name": "HTMLModel",
            "_view_count": null,
            "_view_module": "@jupyter-widgets/controls",
            "_view_module_version": "1.5.0",
            "_view_name": "HTMLView",
            "description": "",
            "description_tooltip": null,
            "layout": "IPY_MODEL_efc6cd8d40bf48699f0835f889b15386",
            "placeholder": "​",
            "style": "IPY_MODEL_46f635f8253e4730967686be35bf2112",
            "value": "100%"
          }
        },
        "b7845b8f79f847649ceb2d9f18b094f3": {
          "model_module": "@jupyter-widgets/controls",
          "model_name": "FloatProgressModel",
          "model_module_version": "1.5.0",
          "state": {
            "_dom_classes": [],
            "_model_module": "@jupyter-widgets/controls",
            "_model_module_version": "1.5.0",
            "_model_name": "FloatProgressModel",
            "_view_count": null,
            "_view_module": "@jupyter-widgets/controls",
            "_view_module_version": "1.5.0",
            "_view_name": "ProgressView",
            "bar_style": "success",
            "description": "",
            "description_tooltip": null,
            "layout": "IPY_MODEL_1db026982ebe4c479fc1b84a5a17a499",
            "max": 2,
            "min": 0,
            "orientation": "horizontal",
            "style": "IPY_MODEL_218c0f2bf4404b079bddae6f7483d4c9",
            "value": 2
          }
        },
        "f69810adb05640bfa0f05b22aa283330": {
          "model_module": "@jupyter-widgets/controls",
          "model_name": "HTMLModel",
          "model_module_version": "1.5.0",
          "state": {
            "_dom_classes": [],
            "_model_module": "@jupyter-widgets/controls",
            "_model_module_version": "1.5.0",
            "_model_name": "HTMLModel",
            "_view_count": null,
            "_view_module": "@jupyter-widgets/controls",
            "_view_module_version": "1.5.0",
            "_view_name": "HTMLView",
            "description": "",
            "description_tooltip": null,
            "layout": "IPY_MODEL_8ff590d8ddf1421485066019ec6cb991",
            "placeholder": "​",
            "style": "IPY_MODEL_6ff4ba147e1a463ca105d49cb1e42d98",
            "value": " 2/2 [00:00&lt;00:00, 16.03it/s]"
          }
        },
        "f9ced8365fa04079b9e7269b1d323190": {
          "model_module": "@jupyter-widgets/base",
          "model_name": "LayoutModel",
          "model_module_version": "1.2.0",
          "state": {
            "_model_module": "@jupyter-widgets/base",
            "_model_module_version": "1.2.0",
            "_model_name": "LayoutModel",
            "_view_count": null,
            "_view_module": "@jupyter-widgets/base",
            "_view_module_version": "1.2.0",
            "_view_name": "LayoutView",
            "align_content": null,
            "align_items": null,
            "align_self": null,
            "border": null,
            "bottom": null,
            "display": null,
            "flex": null,
            "flex_flow": null,
            "grid_area": null,
            "grid_auto_columns": null,
            "grid_auto_flow": null,
            "grid_auto_rows": null,
            "grid_column": null,
            "grid_gap": null,
            "grid_row": null,
            "grid_template_areas": null,
            "grid_template_columns": null,
            "grid_template_rows": null,
            "height": null,
            "justify_content": null,
            "justify_items": null,
            "left": null,
            "margin": null,
            "max_height": null,
            "max_width": null,
            "min_height": null,
            "min_width": null,
            "object_fit": null,
            "object_position": null,
            "order": null,
            "overflow": null,
            "overflow_x": null,
            "overflow_y": null,
            "padding": null,
            "right": null,
            "top": null,
            "visibility": null,
            "width": null
          }
        },
        "efc6cd8d40bf48699f0835f889b15386": {
          "model_module": "@jupyter-widgets/base",
          "model_name": "LayoutModel",
          "model_module_version": "1.2.0",
          "state": {
            "_model_module": "@jupyter-widgets/base",
            "_model_module_version": "1.2.0",
            "_model_name": "LayoutModel",
            "_view_count": null,
            "_view_module": "@jupyter-widgets/base",
            "_view_module_version": "1.2.0",
            "_view_name": "LayoutView",
            "align_content": null,
            "align_items": null,
            "align_self": null,
            "border": null,
            "bottom": null,
            "display": null,
            "flex": null,
            "flex_flow": null,
            "grid_area": null,
            "grid_auto_columns": null,
            "grid_auto_flow": null,
            "grid_auto_rows": null,
            "grid_column": null,
            "grid_gap": null,
            "grid_row": null,
            "grid_template_areas": null,
            "grid_template_columns": null,
            "grid_template_rows": null,
            "height": null,
            "justify_content": null,
            "justify_items": null,
            "left": null,
            "margin": null,
            "max_height": null,
            "max_width": null,
            "min_height": null,
            "min_width": null,
            "object_fit": null,
            "object_position": null,
            "order": null,
            "overflow": null,
            "overflow_x": null,
            "overflow_y": null,
            "padding": null,
            "right": null,
            "top": null,
            "visibility": null,
            "width": null
          }
        },
        "46f635f8253e4730967686be35bf2112": {
          "model_module": "@jupyter-widgets/controls",
          "model_name": "DescriptionStyleModel",
          "model_module_version": "1.5.0",
          "state": {
            "_model_module": "@jupyter-widgets/controls",
            "_model_module_version": "1.5.0",
            "_model_name": "DescriptionStyleModel",
            "_view_count": null,
            "_view_module": "@jupyter-widgets/base",
            "_view_module_version": "1.2.0",
            "_view_name": "StyleView",
            "description_width": ""
          }
        },
        "1db026982ebe4c479fc1b84a5a17a499": {
          "model_module": "@jupyter-widgets/base",
          "model_name": "LayoutModel",
          "model_module_version": "1.2.0",
          "state": {
            "_model_module": "@jupyter-widgets/base",
            "_model_module_version": "1.2.0",
            "_model_name": "LayoutModel",
            "_view_count": null,
            "_view_module": "@jupyter-widgets/base",
            "_view_module_version": "1.2.0",
            "_view_name": "LayoutView",
            "align_content": null,
            "align_items": null,
            "align_self": null,
            "border": null,
            "bottom": null,
            "display": null,
            "flex": null,
            "flex_flow": null,
            "grid_area": null,
            "grid_auto_columns": null,
            "grid_auto_flow": null,
            "grid_auto_rows": null,
            "grid_column": null,
            "grid_gap": null,
            "grid_row": null,
            "grid_template_areas": null,
            "grid_template_columns": null,
            "grid_template_rows": null,
            "height": null,
            "justify_content": null,
            "justify_items": null,
            "left": null,
            "margin": null,
            "max_height": null,
            "max_width": null,
            "min_height": null,
            "min_width": null,
            "object_fit": null,
            "object_position": null,
            "order": null,
            "overflow": null,
            "overflow_x": null,
            "overflow_y": null,
            "padding": null,
            "right": null,
            "top": null,
            "visibility": null,
            "width": null
          }
        },
        "218c0f2bf4404b079bddae6f7483d4c9": {
          "model_module": "@jupyter-widgets/controls",
          "model_name": "ProgressStyleModel",
          "model_module_version": "1.5.0",
          "state": {
            "_model_module": "@jupyter-widgets/controls",
            "_model_module_version": "1.5.0",
            "_model_name": "ProgressStyleModel",
            "_view_count": null,
            "_view_module": "@jupyter-widgets/base",
            "_view_module_version": "1.2.0",
            "_view_name": "StyleView",
            "bar_color": null,
            "description_width": ""
          }
        },
        "8ff590d8ddf1421485066019ec6cb991": {
          "model_module": "@jupyter-widgets/base",
          "model_name": "LayoutModel",
          "model_module_version": "1.2.0",
          "state": {
            "_model_module": "@jupyter-widgets/base",
            "_model_module_version": "1.2.0",
            "_model_name": "LayoutModel",
            "_view_count": null,
            "_view_module": "@jupyter-widgets/base",
            "_view_module_version": "1.2.0",
            "_view_name": "LayoutView",
            "align_content": null,
            "align_items": null,
            "align_self": null,
            "border": null,
            "bottom": null,
            "display": null,
            "flex": null,
            "flex_flow": null,
            "grid_area": null,
            "grid_auto_columns": null,
            "grid_auto_flow": null,
            "grid_auto_rows": null,
            "grid_column": null,
            "grid_gap": null,
            "grid_row": null,
            "grid_template_areas": null,
            "grid_template_columns": null,
            "grid_template_rows": null,
            "height": null,
            "justify_content": null,
            "justify_items": null,
            "left": null,
            "margin": null,
            "max_height": null,
            "max_width": null,
            "min_height": null,
            "min_width": null,
            "object_fit": null,
            "object_position": null,
            "order": null,
            "overflow": null,
            "overflow_x": null,
            "overflow_y": null,
            "padding": null,
            "right": null,
            "top": null,
            "visibility": null,
            "width": null
          }
        },
        "6ff4ba147e1a463ca105d49cb1e42d98": {
          "model_module": "@jupyter-widgets/controls",
          "model_name": "DescriptionStyleModel",
          "model_module_version": "1.5.0",
          "state": {
            "_model_module": "@jupyter-widgets/controls",
            "_model_module_version": "1.5.0",
            "_model_name": "DescriptionStyleModel",
            "_view_count": null,
            "_view_module": "@jupyter-widgets/base",
            "_view_module_version": "1.2.0",
            "_view_name": "StyleView",
            "description_width": ""
          }
        }
      }
    }
  },
  "nbformat": 4,
  "nbformat_minor": 0
}